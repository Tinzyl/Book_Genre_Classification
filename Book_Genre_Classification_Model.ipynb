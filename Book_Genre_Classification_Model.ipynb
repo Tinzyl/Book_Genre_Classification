{
  "nbformat": 4,
  "nbformat_minor": 0,
  "metadata": {
    "colab": {
      "name": "Book_Genre_Classification_Model_AWS.ipynb",
      "provenance": []
    },
    "kernelspec": {
      "name": "python3",
      "display_name": "Python 3"
    },
    "language_info": {
      "name": "python"
    }
  },
  "cells": [
    {
      "cell_type": "code",
      "execution_count": 1,
      "metadata": {
        "id": "RuvkUgzDTq6p"
      },
      "outputs": [],
      "source": [
        "# import libraries\n",
        "import pandas as pd\n",
        "import numpy as np\n",
        "import seaborn as sn\n",
        "import matplotlib.pyplot as plt\n",
        "import re\n",
        "import nltk\n",
        "from collections import Counter\n",
        "from sklearn.feature_extraction.text import TfidfVectorizer, CountVectorizer\n",
        "from sklearn.model_selection import train_test_split\n",
        "from sklearn.tree import DecisionTreeClassifier\n",
        "from sklearn.ensemble import RandomForestClassifier\n",
        "from sklearn.naive_bayes import GaussianNB, MultinomialNB\n",
        "from sklearn.svm import SVC\n",
        "from sklearn import metrics"
      ]
    },
    {
      "cell_type": "code",
      "source": [
        "books = pd.read_csv('drive/MyDrive/Book_Genre_Classi/BooksDataSet.csv')\n",
        "books.head()"
      ],
      "metadata": {
        "colab": {
          "base_uri": "https://localhost:8080/",
          "height": 204
        },
        "id": "KL7RxM9HlAsQ",
        "outputId": "819c3cfe-036a-4deb-ebc1-8a3e57b232af"
      },
      "execution_count": 2,
      "outputs": [
        {
          "output_type": "execute_result",
          "data": {
            "text/html": [
              "\n",
              "  <div id=\"df-debc565d-714a-4db3-9aa4-28bb98fad188\">\n",
              "    <div class=\"colab-df-container\">\n",
              "      <div>\n",
              "<style scoped>\n",
              "    .dataframe tbody tr th:only-of-type {\n",
              "        vertical-align: middle;\n",
              "    }\n",
              "\n",
              "    .dataframe tbody tr th {\n",
              "        vertical-align: top;\n",
              "    }\n",
              "\n",
              "    .dataframe thead th {\n",
              "        text-align: right;\n",
              "    }\n",
              "</style>\n",
              "<table border=\"1\" class=\"dataframe\">\n",
              "  <thead>\n",
              "    <tr style=\"text-align: right;\">\n",
              "      <th></th>\n",
              "      <th>Unnamed: 0</th>\n",
              "      <th>book_id</th>\n",
              "      <th>book_name</th>\n",
              "      <th>genre</th>\n",
              "      <th>summary</th>\n",
              "    </tr>\n",
              "  </thead>\n",
              "  <tbody>\n",
              "    <tr>\n",
              "      <th>0</th>\n",
              "      <td>0</td>\n",
              "      <td>3248537</td>\n",
              "      <td>Drowned Wednesday</td>\n",
              "      <td>Fantasy</td>\n",
              "      <td>Drowned Wednesday is the first Trustee among ...</td>\n",
              "    </tr>\n",
              "    <tr>\n",
              "      <th>1</th>\n",
              "      <td>1</td>\n",
              "      <td>27796919</td>\n",
              "      <td>The Lost Hero</td>\n",
              "      <td>Fantasy</td>\n",
              "      <td>As the book opens, Jason awakens on a school ...</td>\n",
              "    </tr>\n",
              "    <tr>\n",
              "      <th>2</th>\n",
              "      <td>2</td>\n",
              "      <td>3910776</td>\n",
              "      <td>The Eyes of the Overworld</td>\n",
              "      <td>Fantasy</td>\n",
              "      <td>Cugel is easily persuaded by the merchant Fia...</td>\n",
              "    </tr>\n",
              "    <tr>\n",
              "      <th>3</th>\n",
              "      <td>3</td>\n",
              "      <td>5969644</td>\n",
              "      <td>Magic's Promise</td>\n",
              "      <td>Fantasy</td>\n",
              "      <td>The book opens with Herald-Mage Vanyel return...</td>\n",
              "    </tr>\n",
              "    <tr>\n",
              "      <th>4</th>\n",
              "      <td>4</td>\n",
              "      <td>3173445</td>\n",
              "      <td>Taran Wanderer</td>\n",
              "      <td>Fantasy</td>\n",
              "      <td>Taran and Gurgi have returned to Caer Dallben...</td>\n",
              "    </tr>\n",
              "  </tbody>\n",
              "</table>\n",
              "</div>\n",
              "      <button class=\"colab-df-convert\" onclick=\"convertToInteractive('df-debc565d-714a-4db3-9aa4-28bb98fad188')\"\n",
              "              title=\"Convert this dataframe to an interactive table.\"\n",
              "              style=\"display:none;\">\n",
              "        \n",
              "  <svg xmlns=\"http://www.w3.org/2000/svg\" height=\"24px\"viewBox=\"0 0 24 24\"\n",
              "       width=\"24px\">\n",
              "    <path d=\"M0 0h24v24H0V0z\" fill=\"none\"/>\n",
              "    <path d=\"M18.56 5.44l.94 2.06.94-2.06 2.06-.94-2.06-.94-.94-2.06-.94 2.06-2.06.94zm-11 1L8.5 8.5l.94-2.06 2.06-.94-2.06-.94L8.5 2.5l-.94 2.06-2.06.94zm10 10l.94 2.06.94-2.06 2.06-.94-2.06-.94-.94-2.06-.94 2.06-2.06.94z\"/><path d=\"M17.41 7.96l-1.37-1.37c-.4-.4-.92-.59-1.43-.59-.52 0-1.04.2-1.43.59L10.3 9.45l-7.72 7.72c-.78.78-.78 2.05 0 2.83L4 21.41c.39.39.9.59 1.41.59.51 0 1.02-.2 1.41-.59l7.78-7.78 2.81-2.81c.8-.78.8-2.07 0-2.86zM5.41 20L4 18.59l7.72-7.72 1.47 1.35L5.41 20z\"/>\n",
              "  </svg>\n",
              "      </button>\n",
              "      \n",
              "  <style>\n",
              "    .colab-df-container {\n",
              "      display:flex;\n",
              "      flex-wrap:wrap;\n",
              "      gap: 12px;\n",
              "    }\n",
              "\n",
              "    .colab-df-convert {\n",
              "      background-color: #E8F0FE;\n",
              "      border: none;\n",
              "      border-radius: 50%;\n",
              "      cursor: pointer;\n",
              "      display: none;\n",
              "      fill: #1967D2;\n",
              "      height: 32px;\n",
              "      padding: 0 0 0 0;\n",
              "      width: 32px;\n",
              "    }\n",
              "\n",
              "    .colab-df-convert:hover {\n",
              "      background-color: #E2EBFA;\n",
              "      box-shadow: 0px 1px 2px rgba(60, 64, 67, 0.3), 0px 1px 3px 1px rgba(60, 64, 67, 0.15);\n",
              "      fill: #174EA6;\n",
              "    }\n",
              "\n",
              "    [theme=dark] .colab-df-convert {\n",
              "      background-color: #3B4455;\n",
              "      fill: #D2E3FC;\n",
              "    }\n",
              "\n",
              "    [theme=dark] .colab-df-convert:hover {\n",
              "      background-color: #434B5C;\n",
              "      box-shadow: 0px 1px 3px 1px rgba(0, 0, 0, 0.15);\n",
              "      filter: drop-shadow(0px 1px 2px rgba(0, 0, 0, 0.3));\n",
              "      fill: #FFFFFF;\n",
              "    }\n",
              "  </style>\n",
              "\n",
              "      <script>\n",
              "        const buttonEl =\n",
              "          document.querySelector('#df-debc565d-714a-4db3-9aa4-28bb98fad188 button.colab-df-convert');\n",
              "        buttonEl.style.display =\n",
              "          google.colab.kernel.accessAllowed ? 'block' : 'none';\n",
              "\n",
              "        async function convertToInteractive(key) {\n",
              "          const element = document.querySelector('#df-debc565d-714a-4db3-9aa4-28bb98fad188');\n",
              "          const dataTable =\n",
              "            await google.colab.kernel.invokeFunction('convertToInteractive',\n",
              "                                                     [key], {});\n",
              "          if (!dataTable) return;\n",
              "\n",
              "          const docLinkHtml = 'Like what you see? Visit the ' +\n",
              "            '<a target=\"_blank\" href=https://colab.research.google.com/notebooks/data_table.ipynb>data table notebook</a>'\n",
              "            + ' to learn more about interactive tables.';\n",
              "          element.innerHTML = '';\n",
              "          dataTable['output_type'] = 'display_data';\n",
              "          await google.colab.output.renderOutput(dataTable, element);\n",
              "          const docLink = document.createElement('div');\n",
              "          docLink.innerHTML = docLinkHtml;\n",
              "          element.appendChild(docLink);\n",
              "        }\n",
              "      </script>\n",
              "    </div>\n",
              "  </div>\n",
              "  "
            ],
            "text/plain": [
              "   Unnamed: 0  ...                                            summary\n",
              "0           0  ...   Drowned Wednesday is the first Trustee among ...\n",
              "1           1  ...   As the book opens, Jason awakens on a school ...\n",
              "2           2  ...   Cugel is easily persuaded by the merchant Fia...\n",
              "3           3  ...   The book opens with Herald-Mage Vanyel return...\n",
              "4           4  ...   Taran and Gurgi have returned to Caer Dallben...\n",
              "\n",
              "[5 rows x 5 columns]"
            ]
          },
          "metadata": {},
          "execution_count": 2
        }
      ]
    },
    {
      "cell_type": "code",
      "source": [
        "# Remove unnamed : 0\n",
        "books = books[['book_id', 'book_name', 'genre', 'summary']]\n",
        "books.head()"
      ],
      "metadata": {
        "colab": {
          "base_uri": "https://localhost:8080/",
          "height": 204
        },
        "id": "rlsGCqfLlhqy",
        "outputId": "23247fd5-3dbf-4a0e-b92f-38d6427a444e"
      },
      "execution_count": 3,
      "outputs": [
        {
          "output_type": "execute_result",
          "data": {
            "text/html": [
              "\n",
              "  <div id=\"df-437368c1-3df4-4243-9647-8065bc51e3e6\">\n",
              "    <div class=\"colab-df-container\">\n",
              "      <div>\n",
              "<style scoped>\n",
              "    .dataframe tbody tr th:only-of-type {\n",
              "        vertical-align: middle;\n",
              "    }\n",
              "\n",
              "    .dataframe tbody tr th {\n",
              "        vertical-align: top;\n",
              "    }\n",
              "\n",
              "    .dataframe thead th {\n",
              "        text-align: right;\n",
              "    }\n",
              "</style>\n",
              "<table border=\"1\" class=\"dataframe\">\n",
              "  <thead>\n",
              "    <tr style=\"text-align: right;\">\n",
              "      <th></th>\n",
              "      <th>book_id</th>\n",
              "      <th>book_name</th>\n",
              "      <th>genre</th>\n",
              "      <th>summary</th>\n",
              "    </tr>\n",
              "  </thead>\n",
              "  <tbody>\n",
              "    <tr>\n",
              "      <th>0</th>\n",
              "      <td>3248537</td>\n",
              "      <td>Drowned Wednesday</td>\n",
              "      <td>Fantasy</td>\n",
              "      <td>Drowned Wednesday is the first Trustee among ...</td>\n",
              "    </tr>\n",
              "    <tr>\n",
              "      <th>1</th>\n",
              "      <td>27796919</td>\n",
              "      <td>The Lost Hero</td>\n",
              "      <td>Fantasy</td>\n",
              "      <td>As the book opens, Jason awakens on a school ...</td>\n",
              "    </tr>\n",
              "    <tr>\n",
              "      <th>2</th>\n",
              "      <td>3910776</td>\n",
              "      <td>The Eyes of the Overworld</td>\n",
              "      <td>Fantasy</td>\n",
              "      <td>Cugel is easily persuaded by the merchant Fia...</td>\n",
              "    </tr>\n",
              "    <tr>\n",
              "      <th>3</th>\n",
              "      <td>5969644</td>\n",
              "      <td>Magic's Promise</td>\n",
              "      <td>Fantasy</td>\n",
              "      <td>The book opens with Herald-Mage Vanyel return...</td>\n",
              "    </tr>\n",
              "    <tr>\n",
              "      <th>4</th>\n",
              "      <td>3173445</td>\n",
              "      <td>Taran Wanderer</td>\n",
              "      <td>Fantasy</td>\n",
              "      <td>Taran and Gurgi have returned to Caer Dallben...</td>\n",
              "    </tr>\n",
              "  </tbody>\n",
              "</table>\n",
              "</div>\n",
              "      <button class=\"colab-df-convert\" onclick=\"convertToInteractive('df-437368c1-3df4-4243-9647-8065bc51e3e6')\"\n",
              "              title=\"Convert this dataframe to an interactive table.\"\n",
              "              style=\"display:none;\">\n",
              "        \n",
              "  <svg xmlns=\"http://www.w3.org/2000/svg\" height=\"24px\"viewBox=\"0 0 24 24\"\n",
              "       width=\"24px\">\n",
              "    <path d=\"M0 0h24v24H0V0z\" fill=\"none\"/>\n",
              "    <path d=\"M18.56 5.44l.94 2.06.94-2.06 2.06-.94-2.06-.94-.94-2.06-.94 2.06-2.06.94zm-11 1L8.5 8.5l.94-2.06 2.06-.94-2.06-.94L8.5 2.5l-.94 2.06-2.06.94zm10 10l.94 2.06.94-2.06 2.06-.94-2.06-.94-.94-2.06-.94 2.06-2.06.94z\"/><path d=\"M17.41 7.96l-1.37-1.37c-.4-.4-.92-.59-1.43-.59-.52 0-1.04.2-1.43.59L10.3 9.45l-7.72 7.72c-.78.78-.78 2.05 0 2.83L4 21.41c.39.39.9.59 1.41.59.51 0 1.02-.2 1.41-.59l7.78-7.78 2.81-2.81c.8-.78.8-2.07 0-2.86zM5.41 20L4 18.59l7.72-7.72 1.47 1.35L5.41 20z\"/>\n",
              "  </svg>\n",
              "      </button>\n",
              "      \n",
              "  <style>\n",
              "    .colab-df-container {\n",
              "      display:flex;\n",
              "      flex-wrap:wrap;\n",
              "      gap: 12px;\n",
              "    }\n",
              "\n",
              "    .colab-df-convert {\n",
              "      background-color: #E8F0FE;\n",
              "      border: none;\n",
              "      border-radius: 50%;\n",
              "      cursor: pointer;\n",
              "      display: none;\n",
              "      fill: #1967D2;\n",
              "      height: 32px;\n",
              "      padding: 0 0 0 0;\n",
              "      width: 32px;\n",
              "    }\n",
              "\n",
              "    .colab-df-convert:hover {\n",
              "      background-color: #E2EBFA;\n",
              "      box-shadow: 0px 1px 2px rgba(60, 64, 67, 0.3), 0px 1px 3px 1px rgba(60, 64, 67, 0.15);\n",
              "      fill: #174EA6;\n",
              "    }\n",
              "\n",
              "    [theme=dark] .colab-df-convert {\n",
              "      background-color: #3B4455;\n",
              "      fill: #D2E3FC;\n",
              "    }\n",
              "\n",
              "    [theme=dark] .colab-df-convert:hover {\n",
              "      background-color: #434B5C;\n",
              "      box-shadow: 0px 1px 3px 1px rgba(0, 0, 0, 0.15);\n",
              "      filter: drop-shadow(0px 1px 2px rgba(0, 0, 0, 0.3));\n",
              "      fill: #FFFFFF;\n",
              "    }\n",
              "  </style>\n",
              "\n",
              "      <script>\n",
              "        const buttonEl =\n",
              "          document.querySelector('#df-437368c1-3df4-4243-9647-8065bc51e3e6 button.colab-df-convert');\n",
              "        buttonEl.style.display =\n",
              "          google.colab.kernel.accessAllowed ? 'block' : 'none';\n",
              "\n",
              "        async function convertToInteractive(key) {\n",
              "          const element = document.querySelector('#df-437368c1-3df4-4243-9647-8065bc51e3e6');\n",
              "          const dataTable =\n",
              "            await google.colab.kernel.invokeFunction('convertToInteractive',\n",
              "                                                     [key], {});\n",
              "          if (!dataTable) return;\n",
              "\n",
              "          const docLinkHtml = 'Like what you see? Visit the ' +\n",
              "            '<a target=\"_blank\" href=https://colab.research.google.com/notebooks/data_table.ipynb>data table notebook</a>'\n",
              "            + ' to learn more about interactive tables.';\n",
              "          element.innerHTML = '';\n",
              "          dataTable['output_type'] = 'display_data';\n",
              "          await google.colab.output.renderOutput(dataTable, element);\n",
              "          const docLink = document.createElement('div');\n",
              "          docLink.innerHTML = docLinkHtml;\n",
              "          element.appendChild(docLink);\n",
              "        }\n",
              "      </script>\n",
              "    </div>\n",
              "  </div>\n",
              "  "
            ],
            "text/plain": [
              "    book_id  ...                                            summary\n",
              "0   3248537  ...   Drowned Wednesday is the first Trustee among ...\n",
              "1  27796919  ...   As the book opens, Jason awakens on a school ...\n",
              "2   3910776  ...   Cugel is easily persuaded by the merchant Fia...\n",
              "3   5969644  ...   The book opens with Herald-Mage Vanyel return...\n",
              "4   3173445  ...   Taran and Gurgi have returned to Caer Dallben...\n",
              "\n",
              "[5 rows x 4 columns]"
            ]
          },
          "metadata": {},
          "execution_count": 3
        }
      ]
    },
    {
      "cell_type": "code",
      "source": [
        "books.info()"
      ],
      "metadata": {
        "colab": {
          "base_uri": "https://localhost:8080/"
        },
        "id": "aJmuhn8CmPUO",
        "outputId": "662750e6-32fa-465c-86d1-a38c95fb9d99"
      },
      "execution_count": 4,
      "outputs": [
        {
          "output_type": "stream",
          "name": "stdout",
          "text": [
            "<class 'pandas.core.frame.DataFrame'>\n",
            "RangeIndex: 3000 entries, 0 to 2999\n",
            "Data columns (total 4 columns):\n",
            " #   Column     Non-Null Count  Dtype \n",
            "---  ------     --------------  ----- \n",
            " 0   book_id    3000 non-null   int64 \n",
            " 1   book_name  3000 non-null   object\n",
            " 2   genre      3000 non-null   object\n",
            " 3   summary    3000 non-null   object\n",
            "dtypes: int64(1), object(3)\n",
            "memory usage: 93.9+ KB\n"
          ]
        }
      ]
    },
    {
      "cell_type": "code",
      "source": [
        "sn.countplot(x = books['genre'], palette='plasma')\n",
        "plt.xticks(rotation = '45');"
      ],
      "metadata": {
        "colab": {
          "base_uri": "https://localhost:8080/",
          "height": 331
        },
        "id": "ZLvQuH5RmUOE",
        "outputId": "52bacb38-0438-4956-e17e-2e79c6890e41"
      },
      "execution_count": 5,
      "outputs": [
        {
          "output_type": "display_data",
          "data": {
            "image/png": "[encoded data removed]",
            "text/plain": [
              "<Figure size 432x288 with 1 Axes>"
            ]
          },
          "metadata": {
            "needs_background": "light"
          }
        }
      ]
    },
    {
      "cell_type": "code",
      "source": [
        "books['summary'].iloc[1]"
      ],
      "metadata": {
        "colab": {
          "base_uri": "https://localhost:8080/",
          "height": 174
        },
        "id": "mEt1Wkz9mrhI",
        "outputId": "8a58ce21-e89c-43d0-c39a-c929d7913c9f"
      },
      "execution_count": 6,
      "outputs": [
        {
          "output_type": "execute_result",
          "data": {
            "application/vnd.google.colaboratory.intrinsic+json": {
              "type": "string"
            },
            "text/plain": [
              "' As the book opens, Jason awakens on a school bus, unable to remember who or where he is, or anything about his past. He is sitting next to Piper McLean and Leo Valdez, who call him by name and say they are his girlfriend and best friend respectively. All three are part of a class field trip to the Grand Canyon, and after they arrive, a classmate Dylan turns into a Venti (Storm Spirit) and attacks the trio and their trip leader, Coach Gleeson Hedge. In the ensuing fight, Jason surprises everyone, including himself, when one of his coins turns into a sword which he uses to battle the storm spirits. Coach Hedge, who reveals himself to be a satyr during the fight, is taken captive by a fleeing spirit. After the battle, a flying chariot arrives to rescue the trio, but one of the people in it, Annabeth, is upset when she discovers that her missing boyfriend, Percy Jackson, is not there as she expected. Annabeth, seeking Percy, was told in a vision from the goddess Hera to look there for the \"guy with one shoe\", but this turns out to be Jason, who had a shoe destroyed during the fight. Jason, Piper,and Leo are told that they are demigods and are taken back to Camp Half-Blood where they meet other greek demigod children like themselves. There, Leo is revealed as a son of Hephaestus, Piper as a daughter of Aphrodite and Jason as a son of Zeus, though Hera tells him he is her champion. Jason later discovers that he is the full brother of Zeus\\'s demigod daughter Thalia Grace, who is a Hunter of Artemis. Shortly after they arrive, the three are given a quest to rescue Hera, who has been captured, and they set off. They soon discover that their enemies are working under orders from Gaea to overthrow the gods. During their quest, they encounter Thalia and the Hunters, who have been looking for Percy. Thalia and Jason reunite for the first since Jason was captured at the age of two. On the way to Aeolus\\'s castle, Jason, Leo and Piper become separated from Thalia, who promises to meet them at the Wolf House, the last place Thalia had seen Jason before this meeting. After being nearly apprehended by Aeolus, who is under Gaea\\'s orders, the trio manage to escape thanks to Mellie, Aeolus`s former assistant, and end up in San Francisco, thanks to the result of a dream Piper had with Aphrodite. After landing in San Francisco, the trio rush to Mt.Diablo to fight the giant Enceladus, who has kidnapped Piper\\'s father. They manage to kill the giant and save Piper\\'s father, after which they rush to the Wolf House to free Hera. Although the heroes and the Hunters save Hera, the king of the giants, Porphyrion, rises fully and disappears into a hole in the Earth. Jason\\'s memory then starts returning, and he remembers that he is a hero from a Roman counterpart to Camp Half-Blood somewhere near San Francisco, and is the son of Jupiter, Zeus\\'s Roman aspect. He realizes that Hera, also known as Juno, has switched him with Percy Jackson, who will be at the Roman camp with no memory of his life, in the hopes that the two camps would ultimately work together to fight the giants and defeat the goddess Gaea.'"
            ]
          },
          "metadata": {},
          "execution_count": 6
        }
      ]
    },
    {
      "cell_type": "code",
      "source": [
        "def cleantext(text):\n",
        "\n",
        "  # remove the \"\\\"\n",
        "  text = re.sub(\"'\\''\",\"\",text)\n",
        "\n",
        "  # remove special symbols\n",
        "  text = re.sub(\"[^a-zA-Z]\", \" \", text)\n",
        "\n",
        "  # remove whitespace\n",
        "  text = ' '.join(text.split())\n",
        "\n",
        "  # convert text to Lowercase\n",
        "\n",
        "  text = text.lower()\n",
        "\n",
        "  return text\n",
        "\n",
        "books['summary'] = books['summary'].apply(lambda x:cleantext(x))\n",
        "books['summary'].iloc[1]"
      ],
      "metadata": {
        "colab": {
          "base_uri": "https://localhost:8080/",
          "height": 174
        },
        "id": "Aq1VhSaOm4Mx",
        "outputId": "857e16e4-35e3-4385-968a-1b9e99b7c611"
      },
      "execution_count": 7,
      "outputs": [
        {
          "output_type": "execute_result",
          "data": {
            "application/vnd.google.colaboratory.intrinsic+json": {
              "type": "string"
            },
            "text/plain": [
              "'as the book opens jason awakens on a school bus unable to remember who or where he is or anything about his past he is sitting next to piper mclean and leo valdez who call him by name and say they are his girlfriend and best friend respectively all three are part of a class field trip to the grand canyon and after they arrive a classmate dylan turns into a venti storm spirit and attacks the trio and their trip leader coach gleeson hedge in the ensuing fight jason surprises everyone including himself when one of his coins turns into a sword which he uses to battle the storm spirits coach hedge who reveals himself to be a satyr during the fight is taken captive by a fleeing spirit after the battle a flying chariot arrives to rescue the trio but one of the people in it annabeth is upset when she discovers that her missing boyfriend percy jackson is not there as she expected annabeth seeking percy was told in a vision from the goddess hera to look there for the guy with one shoe but this turns out to be jason who had a shoe destroyed during the fight jason piper and leo are told that they are demigods and are taken back to camp half blood where they meet other greek demigod children like themselves there leo is revealed as a son of hephaestus piper as a daughter of aphrodite and jason as a son of zeus though hera tells him he is her champion jason later discovers that he is the full brother of zeus s demigod daughter thalia grace who is a hunter of artemis shortly after they arrive the three are given a quest to rescue hera who has been captured and they set off they soon discover that their enemies are working under orders from gaea to overthrow the gods during their quest they encounter thalia and the hunters who have been looking for percy thalia and jason reunite for the first since jason was captured at the age of two on the way to aeolus s castle jason leo and piper become separated from thalia who promises to meet them at the wolf house the last place thalia had seen jason before this meeting after being nearly apprehended by aeolus who is under gaea s orders the trio manage to escape thanks to mellie aeolus s former assistant and end up in san francisco thanks to the result of a dream piper had with aphrodite after landing in san francisco the trio rush to mt diablo to fight the giant enceladus who has kidnapped piper s father they manage to kill the giant and save piper s father after which they rush to the wolf house to free hera although the heroes and the hunters save hera the king of the giants porphyrion rises fully and disappears into a hole in the earth jason s memory then starts returning and he remembers that he is a hero from a roman counterpart to camp half blood somewhere near san francisco and is the son of jupiter zeus s roman aspect he realizes that hera also known as juno has switched him with percy jackson who will be at the roman camp with no memory of his life in the hopes that the two camps would ultimately work together to fight the giants and defeat the goddess gaea'"
            ]
          },
          "metadata": {},
          "execution_count": 7
        }
      ]
    },
    {
      "cell_type": "code",
      "source": [
        "# Plot the most frequent words\n",
        "def showmostfrequentwords(text, no_of_words):\n",
        "\n",
        "  allwords = ' '.join([char for char in text])\n",
        "  allwords = allwords.split()\n",
        "  fdist = nltk.FreqDist(allwords)\n",
        "\n",
        "  wordsdf = pd.DataFrame({'word':list(fdist.keys()), 'count':list(fdist.values())})\n",
        "\n",
        "  df = wordsdf.nlargest(columns=\"count\", n = no_of_words)\n",
        "\n",
        "  plt.figure(figsize=(7,5))\n",
        "  ax = sn.barplot(data=df, x = 'count', y = 'word')\n",
        "  ax.set(ylabel = 'word')\n",
        "  plt.show()\n",
        "\n",
        "  return wordsdf\n",
        "\n",
        "# 25 most frequent words\n",
        "wordsdf = showmostfrequentwords(books['summary'], 25)"
      ],
      "metadata": {
        "colab": {
          "base_uri": "https://localhost:8080/",
          "height": 334
        },
        "id": "iAJ71Nuinuze",
        "outputId": "9cb6632c-43c0-480b-fd3f-3ce0a8bf37fa"
      },
      "execution_count": 8,
      "outputs": [
        {
          "output_type": "display_data",
          "data": {
            "image/png": "[encoded data removed]",
            "text/plain": [
              "<Figure size 504x360 with 1 Axes>"
            ]
          },
          "metadata": {
            "needs_background": "light"
          }
        }
      ]
    },
    {
      "cell_type": "code",
      "source": [
        "wordsdf.sort_values('count', ascending=False).head(10).style.background_gradient(cmap = 'plasma')"
      ],
      "metadata": {
        "colab": {
          "base_uri": "https://localhost:8080/",
          "height": 359
        },
        "id": "MVA1FEzBqBTW",
        "outputId": "ea2795e4-a68b-48ce-9178-45f37bdfa0e6"
      },
      "execution_count": 9,
      "outputs": [
        {
          "output_type": "execute_result",
          "data": {
            "text/html": [
              "<style  type=\"text/css\" >\n",
              "#T_1c574586_680b_11ec_a8a9_0242ac1c0002row0_col1{\n",
              "            background-color:  #f0f921;\n",
              "            color:  #000000;\n",
              "        }#T_1c574586_680b_11ec_a8a9_0242ac1c0002row1_col1{\n",
              "            background-color:  #b02991;\n",
              "            color:  #f1f1f1;\n",
              "        }#T_1c574586_680b_11ec_a8a9_0242ac1c0002row2_col1{\n",
              "            background-color:  #a62098;\n",
              "            color:  #f1f1f1;\n",
              "        }#T_1c574586_680b_11ec_a8a9_0242ac1c0002row3_col1{\n",
              "            background-color:  #8004a8;\n",
              "            color:  #f1f1f1;\n",
              "        }#T_1c574586_680b_11ec_a8a9_0242ac1c0002row4_col1{\n",
              "            background-color:  #7a02a8;\n",
              "            color:  #f1f1f1;\n",
              "        }#T_1c574586_680b_11ec_a8a9_0242ac1c0002row5_col1{\n",
              "            background-color:  #3e049c;\n",
              "            color:  #f1f1f1;\n",
              "        }#T_1c574586_680b_11ec_a8a9_0242ac1c0002row6_col1{\n",
              "            background-color:  #38049a;\n",
              "            color:  #f1f1f1;\n",
              "        }#T_1c574586_680b_11ec_a8a9_0242ac1c0002row7_col1{\n",
              "            background-color:  #130789;\n",
              "            color:  #f1f1f1;\n",
              "        }#T_1c574586_680b_11ec_a8a9_0242ac1c0002row8_col1{\n",
              "            background-color:  #100788;\n",
              "            color:  #f1f1f1;\n",
              "        }#T_1c574586_680b_11ec_a8a9_0242ac1c0002row9_col1{\n",
              "            background-color:  #0d0887;\n",
              "            color:  #f1f1f1;\n",
              "        }</style><table id=\"T_1c574586_680b_11ec_a8a9_0242ac1c0002\" class=\"dataframe\"><thead>    <tr>        <th class=\"blank level0\" ></th>        <th class=\"col_heading level0 col0\" >word</th>        <th class=\"col_heading level0 col1\" >count</th>    </tr></thead><tbody>\n",
              "                <tr>\n",
              "                        <th id=\"T_1c574586_680b_11ec_a8a9_0242ac1c0002level0_row0\" class=\"row_heading level0 row0\" >3</th>\n",
              "                        <td id=\"T_1c574586_680b_11ec_a8a9_0242ac1c0002row0_col0\" class=\"data row0 col0\" >the</td>\n",
              "                        <td id=\"T_1c574586_680b_11ec_a8a9_0242ac1c0002row0_col1\" class=\"data row0 col1\" >99808</td>\n",
              "            </tr>\n",
              "            <tr>\n",
              "                        <th id=\"T_1c574586_680b_11ec_a8a9_0242ac1c0002level0_row1\" class=\"row_heading level0 row1\" >17</th>\n",
              "                        <td id=\"T_1c574586_680b_11ec_a8a9_0242ac1c0002row1_col0\" class=\"data row1 col0\" >to</td>\n",
              "                        <td id=\"T_1c574586_680b_11ec_a8a9_0242ac1c0002row1_col1\" class=\"data row1 col1\" >49665</td>\n",
              "            </tr>\n",
              "            <tr>\n",
              "                        <th id=\"T_1c574586_680b_11ec_a8a9_0242ac1c0002level0_row2\" class=\"row_heading level0 row2\" >14</th>\n",
              "                        <td id=\"T_1c574586_680b_11ec_a8a9_0242ac1c0002row2_col0\" class=\"data row2 col0\" >and</td>\n",
              "                        <td id=\"T_1c574586_680b_11ec_a8a9_0242ac1c0002row2_col1\" class=\"data row2 col1\" >47183</td>\n",
              "            </tr>\n",
              "            <tr>\n",
              "                        <th id=\"T_1c574586_680b_11ec_a8a9_0242ac1c0002level0_row3\" class=\"row_heading level0 row3\" >46</th>\n",
              "                        <td id=\"T_1c574586_680b_11ec_a8a9_0242ac1c0002row3_col0\" class=\"data row3 col0\" >of</td>\n",
              "                        <td id=\"T_1c574586_680b_11ec_a8a9_0242ac1c0002row3_col1\" class=\"data row3 col1\" >38003</td>\n",
              "            </tr>\n",
              "            <tr>\n",
              "                        <th id=\"T_1c574586_680b_11ec_a8a9_0242ac1c0002level0_row4\" class=\"row_heading level0 row4\" >23</th>\n",
              "                        <td id=\"T_1c574586_680b_11ec_a8a9_0242ac1c0002row4_col0\" class=\"data row4 col0\" >a</td>\n",
              "                        <td id=\"T_1c574586_680b_11ec_a8a9_0242ac1c0002row4_col1\" class=\"data row4 col1\" >36749</td>\n",
              "            </tr>\n",
              "            <tr>\n",
              "                        <th id=\"T_1c574586_680b_11ec_a8a9_0242ac1c0002level0_row5\" class=\"row_heading level0 row5\" >80</th>\n",
              "                        <td id=\"T_1c574586_680b_11ec_a8a9_0242ac1c0002row5_col0\" class=\"data row5 col0\" >in</td>\n",
              "                        <td id=\"T_1c574586_680b_11ec_a8a9_0242ac1c0002row5_col1\" class=\"data row5 col1\" >24496</td>\n",
              "            </tr>\n",
              "            <tr>\n",
              "                        <th id=\"T_1c574586_680b_11ec_a8a9_0242ac1c0002level0_row6\" class=\"row_heading level0 row6\" >2</th>\n",
              "                        <td id=\"T_1c574586_680b_11ec_a8a9_0242ac1c0002row6_col0\" class=\"data row6 col0\" >is</td>\n",
              "                        <td id=\"T_1c574586_680b_11ec_a8a9_0242ac1c0002row6_col1\" class=\"data row6 col1\" >23358</td>\n",
              "            </tr>\n",
              "            <tr>\n",
              "                        <th id=\"T_1c574586_680b_11ec_a8a9_0242ac1c0002level0_row7\" class=\"row_heading level0 row7\" >49</th>\n",
              "                        <td id=\"T_1c574586_680b_11ec_a8a9_0242ac1c0002row7_col0\" class=\"data row7 col0\" >his</td>\n",
              "                        <td id=\"T_1c574586_680b_11ec_a8a9_0242ac1c0002row7_col1\" class=\"data row7 col1\" >17464</td>\n",
              "            </tr>\n",
              "            <tr>\n",
              "                        <th id=\"T_1c574586_680b_11ec_a8a9_0242ac1c0002level0_row8\" class=\"row_heading level0 row8\" >51</th>\n",
              "                        <td id=\"T_1c574586_680b_11ec_a8a9_0242ac1c0002row8_col0\" class=\"data row8 col0\" >he</td>\n",
              "                        <td id=\"T_1c574586_680b_11ec_a8a9_0242ac1c0002row8_col1\" class=\"data row8 col1\" >17210</td>\n",
              "            </tr>\n",
              "            <tr>\n",
              "                        <th id=\"T_1c574586_680b_11ec_a8a9_0242ac1c0002level0_row9\" class=\"row_heading level0 row9\" >12</th>\n",
              "                        <td id=\"T_1c574586_680b_11ec_a8a9_0242ac1c0002row9_col0\" class=\"data row9 col0\" >s</td>\n",
              "                        <td id=\"T_1c574586_680b_11ec_a8a9_0242ac1c0002row9_col1\" class=\"data row9 col1\" >16710</td>\n",
              "            </tr>\n",
              "    </tbody></table>"
            ],
            "text/plain": [
              "<pandas.io.formats.style.Styler at 0x7f3b34565950>"
            ]
          },
          "metadata": {},
          "execution_count": 9
        }
      ]
    },
    {
      "cell_type": "code",
      "source": [
        "nltk.download('stopwords')\n",
        "from nltk.corpus import stopwords\n",
        "stop_words = set(stopwords.words('english'))\n",
        "\n",
        "# removing the stopwords\n",
        "\n",
        "def removestopwords(text):\n",
        "  removedstopword = [word for word in text.split() if word not in stop_words]\n",
        "  return ' '.join(removedstopword)\n",
        "\n",
        "books['summary'] = books['summary'].apply(lambda x:removestopwords(x))\n",
        "books['summary'].iloc[1]"
      ],
      "metadata": {
        "colab": {
          "base_uri": "https://localhost:8080/",
          "height": 208
        },
        "id": "SsjnSfclq5bw",
        "outputId": "4339f5a5-b2f2-465e-f29f-36f93e93a179"
      },
      "execution_count": 11,
      "outputs": [
        {
          "output_type": "stream",
          "name": "stdout",
          "text": [
            "[nltk_data] Downloading package stopwords to /root/nltk_data...\n",
            "[nltk_data]   Unzipping corpora/stopwords.zip.\n"
          ]
        },
        {
          "output_type": "execute_result",
          "data": {
            "application/vnd.google.colaboratory.intrinsic+json": {
              "type": "string"
            },
            "text/plain": [
              "'book opens jason awakens school bus unable remember anything past sitting next piper mclean leo valdez call name say girlfriend best friend respectively three part class field trip grand canyon arrive classmate dylan turns venti storm spirit attacks trio trip leader coach gleeson hedge ensuing fight jason surprises everyone including one coins turns sword uses battle storm spirits coach hedge reveals satyr fight taken captive fleeing spirit battle flying chariot arrives rescue trio one people annabeth upset discovers missing boyfriend percy jackson expected annabeth seeking percy told vision goddess hera look guy one shoe turns jason shoe destroyed fight jason piper leo told demigods taken back camp half blood meet greek demigod children like leo revealed son hephaestus piper daughter aphrodite jason son zeus though hera tells champion jason later discovers full brother zeus demigod daughter thalia grace hunter artemis shortly arrive three given quest rescue hera captured set soon discover enemies working orders gaea overthrow gods quest encounter thalia hunters looking percy thalia jason reunite first since jason captured age two way aeolus castle jason leo piper become separated thalia promises meet wolf house last place thalia seen jason meeting nearly apprehended aeolus gaea orders trio manage escape thanks mellie aeolus former assistant end san francisco thanks result dream piper aphrodite landing san francisco trio rush mt diablo fight giant enceladus kidnapped piper father manage kill giant save piper father rush wolf house free hera although heroes hunters save hera king giants porphyrion rises fully disappears hole earth jason memory starts returning remembers hero roman counterpart camp half blood somewhere near san francisco son jupiter zeus roman aspect realizes hera also known juno switched percy jackson roman camp memory life hopes two camps would ultimately work together fight giants defeat goddess gaea'"
            ]
          },
          "metadata": {},
          "execution_count": 11
        }
      ]
    },
    {
      "cell_type": "code",
      "source": [
        "# Lemmatizing\n",
        "nltk.download('wordnet')\n",
        "from nltk.stem import WordNetLemmatizer\n",
        "lemma = WordNetLemmatizer()\n",
        "\n",
        "def lematizing(sentence):\n",
        "  stemSentence = \"\"\n",
        "  for word in sentence.split():\n",
        "    stem = lemma.lemmatize(word)\n",
        "    stemSentence += stem\n",
        "    stemSentence += \" \"\n",
        "  stemSentence = stemSentence.strip()\n",
        "  return stemSentence\n",
        "\n",
        "books['summary'] = books['summary'].apply(lambda x: lematizing(x))"
      ],
      "metadata": {
        "colab": {
          "base_uri": "https://localhost:8080/"
        },
        "id": "DNshS6BLWSAT",
        "outputId": "1293bbc0-9f5b-4204-fbea-010b30df8a55"
      },
      "execution_count": 12,
      "outputs": [
        {
          "output_type": "stream",
          "name": "stdout",
          "text": [
            "[nltk_data] Downloading package wordnet to /root/nltk_data...\n",
            "[nltk_data]   Unzipping corpora/wordnet.zip.\n"
          ]
        }
      ]
    },
    {
      "cell_type": "code",
      "source": [
        "# Stemming\n",
        "from nltk.stem import PorterStemmer\n",
        "stemmer = PorterStemmer()\n",
        "\n",
        "def stemming(sentence):\n",
        "\n",
        "  stemmed_sentence = \"\"\n",
        "  for word in sentence.split():\n",
        "    stem = stemmer.stem(word)\n",
        "    stemmed_sentence+=stem\n",
        "    stemmed_sentence+=\" \"\n",
        "\n",
        "  stemmed_senetence = stemmed_sentence.strip()\n",
        "  return stemmed_sentence\n",
        "\n",
        "books['summary'] = books['summary'].apply(lambda text:stemming(text))\n",
        "books['summary'].iloc[1]"
      ],
      "metadata": {
        "colab": {
          "base_uri": "https://localhost:8080/",
          "height": 174
        },
        "id": "MMJuUbCfZO-g",
        "outputId": "96dbe840-c03a-4984-d158-2d33cae2743e"
      },
      "execution_count": 13,
      "outputs": [
        {
          "output_type": "execute_result",
          "data": {
            "application/vnd.google.colaboratory.intrinsic+json": {
              "type": "string"
            },
            "text/plain": [
              "'book open jason awaken school bu unabl rememb anyth past sit next piper mclean leo valdez call name say girlfriend best friend respect three part class field trip grand canyon arriv classmat dylan turn venti storm spirit attack trio trip leader coach gleeson hedg ensu fight jason surpris everyon includ one coin turn sword us battl storm spirit coach hedg reveal satyr fight taken captiv flee spirit battl fli chariot arriv rescu trio one peopl annabeth upset discov miss boyfriend perci jackson expect annabeth seek perci told vision goddess hera look guy one shoe turn jason shoe destroy fight jason piper leo told demigod taken back camp half blood meet greek demigod child like leo reveal son hephaestu piper daughter aphrodit jason son zeu though hera tell champion jason later discov full brother zeu demigod daughter thalia grace hunter artemi shortli arriv three given quest rescu hera captur set soon discov enemi work order gaea overthrow god quest encount thalia hunter look perci thalia jason reunit first sinc jason captur age two way aeolu castl jason leo piper becom separ thalia promis meet wolf hous last place thalia seen jason meet nearli apprehend aeolu gaea order trio manag escap thank melli aeolu former assist end san francisco thank result dream piper aphrodit land san francisco trio rush mt diablo fight giant enceladu kidnap piper father manag kill giant save piper father rush wolf hous free hera although hero hunter save hera king giant porphyrion rise fulli disappear hole earth jason memori start return rememb hero roman counterpart camp half blood somewher near san francisco son jupit zeu roman aspect realiz hera also known juno switch perci jackson roman camp memori life hope two camp would ultim work togeth fight giant defeat goddess gaea '"
            ]
          },
          "metadata": {},
          "execution_count": 13
        }
      ]
    },
    {
      "cell_type": "code",
      "source": [
        "freq_df = showmostfrequentwords(books['summary'], 25)"
      ],
      "metadata": {
        "colab": {
          "base_uri": "https://localhost:8080/",
          "height": 334
        },
        "id": "uHz5r7hbma4g",
        "outputId": "216ce835-7e3a-4baa-f993-9bf4a75c2885"
      },
      "execution_count": 14,
      "outputs": [
        {
          "output_type": "display_data",
          "data": {
            "image/png": "[encoded data removed]",
            "text/plain": [
              "<Figure size 504x360 with 1 Axes>"
            ]
          },
          "metadata": {
            "needs_background": "light"
          }
        }
      ]
    },
    {
      "cell_type": "code",
      "source": [
        "# Encoding\n",
        "books_list = list(books['genre'].unique())\n",
        "encode = [i for i in range(len(books_list))]\n",
        "mapper = dict(zip(books_list, encode))\n",
        "print(mapper)"
      ],
      "metadata": {
        "colab": {
          "base_uri": "https://localhost:8080/"
        },
        "id": "BOa_Ec8unQsm",
        "outputId": "4ecf9cb4-d09a-49c3-aa87-cb15737c5761"
      },
      "execution_count": 15,
      "outputs": [
        {
          "output_type": "stream",
          "name": "stdout",
          "text": [
            "{'Fantasy': 0, 'Science Fiction': 1, 'Crime Fiction': 2, 'Historical novel': 3, 'Horror': 4, 'Thriller': 5}\n"
          ]
        }
      ]
    },
    {
      "cell_type": "code",
      "source": [
        "books['genre'] = books['genre'].map(mapper)\n",
        "books['genre'].unique()"
      ],
      "metadata": {
        "colab": {
          "base_uri": "https://localhost:8080/"
        },
        "id": "K6lUH3a0n50P",
        "outputId": "abb1079b-4320-465e-d9e4-9b8ab8a6aea8"
      },
      "execution_count": 16,
      "outputs": [
        {
          "output_type": "execute_result",
          "data": {
            "text/plain": [
              "array([0, 1, 2, 3, 4, 5])"
            ]
          },
          "metadata": {},
          "execution_count": 16
        }
      ]
    },
    {
      "cell_type": "code",
      "source": [
        "# Build Model\n",
        "count_vec = CountVectorizer(max_df=0.90, min_df=2, max_features=1000, stop_words='english')\n",
        "bagofword_vec = count_vec.fit_transform(books['summary'])\n",
        "bagofword_vec"
      ],
      "metadata": {
        "colab": {
          "base_uri": "https://localhost:8080/"
        },
        "id": "62lqoLN8oENT",
        "outputId": "cee62f7c-c5b3-4311-bd4a-a5c5512c6ebf"
      },
      "execution_count": 17,
      "outputs": [
        {
          "output_type": "execute_result",
          "data": {
            "text/plain": [
              "<3000x1000 sparse matrix of type '<class 'numpy.int64'>'\n",
              "\twith 245387 stored elements in Compressed Sparse Row format>"
            ]
          },
          "metadata": {},
          "execution_count": 17
        }
      ]
    },
    {
      "cell_type": "code",
      "source": [
        "test = books['genre']\n",
        "X_train, X_test, y_train, y_test = train_test_split(bagofword_vec, test, test_size=0.2)\n",
        "X_train.shape, X_test.shape"
      ],
      "metadata": {
        "colab": {
          "base_uri": "https://localhost:8080/"
        },
        "id": "4inbAOtWo2rH",
        "outputId": "429ae235-cb0a-4e17-a2ec-f47a3f151d8d"
      },
      "execution_count": 18,
      "outputs": [
        {
          "output_type": "execute_result",
          "data": {
            "text/plain": [
              "((2400, 1000), (600, 1000))"
            ]
          },
          "metadata": {},
          "execution_count": 18
        }
      ]
    },
    {
      "cell_type": "code",
      "source": [
        "svc = SVC()\n",
        "svc.fit(X_train, y_train)\n",
        "svccpred = svc.predict(X_test)\n",
        "print(metrics.accuracy_score(y_test, svccpred))"
      ],
      "metadata": {
        "colab": {
          "base_uri": "https://localhost:8080/"
        },
        "id": "kLtpo2mlpsko",
        "outputId": "ca9d20d4-86b2-4234-ede3-db676843b5fe"
      },
      "execution_count": 19,
      "outputs": [
        {
          "output_type": "stream",
          "name": "stdout",
          "text": [
            "0.555\n"
          ]
        }
      ]
    },
    {
      "cell_type": "code",
      "source": [
        "mb = MultinomialNB()\n",
        "mb.fit(X_train, y_train)\n",
        "mbpred = mb.predict(X_test)\n",
        "print(metrics.accuracy_score(y_test, mbpred))"
      ],
      "metadata": {
        "colab": {
          "base_uri": "https://localhost:8080/"
        },
        "id": "_IkVVAxIp9Oy",
        "outputId": "a3422180-9a55-4e19-e176-83f0ab0f6781"
      },
      "execution_count": 20,
      "outputs": [
        {
          "output_type": "stream",
          "name": "stdout",
          "text": [
            "0.6566666666666666\n"
          ]
        }
      ]
    },
    {
      "cell_type": "code",
      "source": [
        "rf = RandomForestClassifier()\n",
        "rf.fit(X_train, y_train)\n",
        "print(metrics.accuracy_score(y_test, rf.predict(X_test)))"
      ],
      "metadata": {
        "colab": {
          "base_uri": "https://localhost:8080/"
        },
        "id": "psUXeP2vqsKD",
        "outputId": "1d2fe084-1b9a-49d6-b979-dff78f12a533"
      },
      "execution_count": 21,
      "outputs": [
        {
          "output_type": "stream",
          "name": "stdout",
          "text": [
            "0.5816666666666667\n"
          ]
        }
      ]
    },
    {
      "cell_type": "code",
      "source": [
        "# Use TFDIF Vectorizer\n",
        "# Labeling each 'genre' with a unique number\n",
        "\n",
        "from sklearn.preprocessing import LabelEncoder\n",
        "le = LabelEncoder()\n",
        "y = le.fit_transform(books['genre'])\n",
        "\n",
        "X_train, X_test, y_train, y_test = train_test_split(books['summary'], y, test_size=0.2, random_state=557)\n",
        "\n",
        "X_train.shape, X_test.shape"
      ],
      "metadata": {
        "colab": {
          "base_uri": "https://localhost:8080/"
        },
        "id": "xb-GbGkcq5y4",
        "outputId": "9987ef3c-5700-4ba7-f2ae-8a63e17b4e77"
      },
      "execution_count": 22,
      "outputs": [
        {
          "output_type": "execute_result",
          "data": {
            "text/plain": [
              "((2400,), (600,))"
            ]
          },
          "metadata": {},
          "execution_count": 22
        }
      ]
    },
    {
      "cell_type": "code",
      "source": [
        "# Perdorming tf-idf\n",
        "\n",
        "tfidf_vectorizer = TfidfVectorizer(max_df=0.8, max_features=10000)\n",
        "xtrain_tfidf = tfidf_vectorizer.fit_transform(X_train.values.astype('U'))\n",
        "xtest_tfidf = tfidf_vectorizer.transform(X_test.values.astype('U'))"
      ],
      "metadata": {
        "id": "ucNXK-_nuPzo"
      },
      "execution_count": 23,
      "outputs": []
    },
    {
      "cell_type": "code",
      "source": [
        "svc = SVC()\n",
        "svc.fit(xtrain_tfidf, y_train)\n",
        "svccpred = svc.predict(xtest_tfidf)\n",
        "print(metrics.accuracy_score(y_test, svccpred))"
      ],
      "metadata": {
        "colab": {
          "base_uri": "https://localhost:8080/"
        },
        "id": "wmlRIhUIvCtm",
        "outputId": "2277b9d9-73b1-48a9-c46b-024c39a78f2a"
      },
      "execution_count": 24,
      "outputs": [
        {
          "output_type": "stream",
          "name": "stdout",
          "text": [
            "0.775\n"
          ]
        }
      ]
    },
    {
      "cell_type": "code",
      "source": [
        "mb = MultinomialNB()\n",
        "mb.fit(xtrain_tfidf, y_train)\n",
        "mbpred = mb.predict(xtest_tfidf)\n",
        "print(metrics.accuracy_score(y_test, mbpred))"
      ],
      "metadata": {
        "colab": {
          "base_uri": "https://localhost:8080/"
        },
        "id": "yJguRuGvvN7K",
        "outputId": "6966b643-dc89-4126-8616-2aea9bb36540"
      },
      "execution_count": 25,
      "outputs": [
        {
          "output_type": "stream",
          "name": "stdout",
          "text": [
            "0.78\n"
          ]
        }
      ]
    },
    {
      "cell_type": "code",
      "source": [
        "# Testing the model\n",
        "def test(text, model):\n",
        "\n",
        "  text = cleantext(text)\n",
        "  text = removestopwords(text)\n",
        "  text = lematizing(text)\n",
        "  text = stemming(text)\n",
        "\n",
        "  text_vector = tfidf_vectorizer.transform([text])\n",
        "  predicted = model.predict(text_vector)\n",
        "  return predicted\n",
        "\n",
        "ans = books['summary'].apply(lambda text:test(text,mb))\n",
        "\n",
        "ans"
      ],
      "metadata": {
        "colab": {
          "base_uri": "https://localhost:8080/"
        },
        "id": "F2ZWL6xgw4v3",
        "outputId": "9c5909d0-9d20-4837-fbcc-a080bc803d90"
      },
      "execution_count": 26,
      "outputs": [
        {
          "output_type": "execute_result",
          "data": {
            "text/plain": [
              "0       [0]\n",
              "1       [0]\n",
              "2       [0]\n",
              "3       [0]\n",
              "4       [0]\n",
              "       ... \n",
              "2995    [1]\n",
              "2996    [5]\n",
              "2997    [5]\n",
              "2998    [5]\n",
              "2999    [5]\n",
              "Name: summary, Length: 3000, dtype: object"
            ]
          },
          "metadata": {},
          "execution_count": 26
        }
      ]
    },
    {
      "cell_type": "code",
      "source": [
        "predicted_genres = []\n",
        "for i in range(len(ans)):\n",
        "\n",
        "  index_val = ans[i][0]\n",
        "  predicted_genres.append(list(mapper.keys())[list(mapper.values()).index(index_val)])"
      ],
      "metadata": {
        "id": "EL7edZ5tyoWa"
      },
      "execution_count": 27,
      "outputs": []
    },
    {
      "cell_type": "code",
      "source": [
        "predicted_genres"
      ],
      "metadata": {
        "colab": {
          "base_uri": "https://localhost:8080/"
        },
        "id": "NFyXCKU4zQGI",
        "outputId": "34de10fd-61d0-4929-def1-fdb6ab8c39a0"
      },
      "execution_count": 28,
      "outputs": [
        {
          "output_type": "execute_result",
          "data": {
            "text/plain": [
              "['Fantasy',\n",
              " 'Fantasy',\n",
              " 'Fantasy',\n",
              " 'Fantasy',\n",
              " 'Fantasy',\n",
              " 'Fantasy',\n",
              " 'Fantasy',\n",
              " 'Fantasy',\n",
              " 'Fantasy',\n",
              " 'Fantasy',\n",
              " 'Fantasy',\n",
              " 'Fantasy',\n",
              " 'Fantasy',\n",
              " 'Fantasy',\n",
              " 'Fantasy',\n",
              " 'Science Fiction',\n",
              " 'Fantasy',\n",
              " 'Fantasy',\n",
              " 'Fantasy',\n",
              " 'Fantasy',\n",
              " 'Fantasy',\n",
              " 'Fantasy',\n",
              " 'Fantasy',\n",
              " 'Fantasy',\n",
              " 'Fantasy',\n",
              " 'Fantasy',\n",
              " 'Fantasy',\n",
              " 'Fantasy',\n",
              " 'Fantasy',\n",
              " 'Fantasy',\n",
              " 'Fantasy',\n",
              " 'Fantasy',\n",
              " 'Fantasy',\n",
              " 'Fantasy',\n",
              " 'Fantasy',\n",
              " 'Fantasy',\n",
              " 'Fantasy',\n",
              " 'Thriller',\n",
              " 'Fantasy',\n",
              " 'Fantasy',\n",
              " 'Fantasy',\n",
              " 'Fantasy',\n",
              " 'Fantasy',\n",
              " 'Fantasy',\n",
              " 'Fantasy',\n",
              " 'Fantasy',\n",
              " 'Fantasy',\n",
              " 'Fantasy',\n",
              " 'Fantasy',\n",
              " 'Fantasy',\n",
              " 'Fantasy',\n",
              " 'Fantasy',\n",
              " 'Fantasy',\n",
              " 'Fantasy',\n",
              " 'Fantasy',\n",
              " 'Fantasy',\n",
              " 'Fantasy',\n",
              " 'Fantasy',\n",
              " 'Fantasy',\n",
              " 'Fantasy',\n",
              " 'Fantasy',\n",
              " 'Fantasy',\n",
              " 'Fantasy',\n",
              " 'Fantasy',\n",
              " 'Science Fiction',\n",
              " 'Fantasy',\n",
              " 'Fantasy',\n",
              " 'Fantasy',\n",
              " 'Fantasy',\n",
              " 'Fantasy',\n",
              " 'Fantasy',\n",
              " 'Fantasy',\n",
              " 'Fantasy',\n",
              " 'Horror',\n",
              " 'Fantasy',\n",
              " 'Fantasy',\n",
              " 'Fantasy',\n",
              " 'Fantasy',\n",
              " 'Fantasy',\n",
              " 'Fantasy',\n",
              " 'Fantasy',\n",
              " 'Fantasy',\n",
              " 'Horror',\n",
              " 'Fantasy',\n",
              " 'Fantasy',\n",
              " 'Fantasy',\n",
              " 'Science Fiction',\n",
              " 'Fantasy',\n",
              " 'Fantasy',\n",
              " 'Fantasy',\n",
              " 'Fantasy',\n",
              " 'Fantasy',\n",
              " 'Fantasy',\n",
              " 'Fantasy',\n",
              " 'Fantasy',\n",
              " 'Fantasy',\n",
              " 'Fantasy',\n",
              " 'Fantasy',\n",
              " 'Fantasy',\n",
              " 'Fantasy',\n",
              " 'Fantasy',\n",
              " 'Fantasy',\n",
              " 'Fantasy',\n",
              " 'Fantasy',\n",
              " 'Fantasy',\n",
              " 'Historical novel',\n",
              " 'Science Fiction',\n",
              " 'Science Fiction',\n",
              " 'Fantasy',\n",
              " 'Fantasy',\n",
              " 'Fantasy',\n",
              " 'Fantasy',\n",
              " 'Fantasy',\n",
              " 'Fantasy',\n",
              " 'Fantasy',\n",
              " 'Science Fiction',\n",
              " 'Fantasy',\n",
              " 'Fantasy',\n",
              " 'Fantasy',\n",
              " 'Fantasy',\n",
              " 'Fantasy',\n",
              " 'Fantasy',\n",
              " 'Fantasy',\n",
              " 'Fantasy',\n",
              " 'Fantasy',\n",
              " 'Science Fiction',\n",
              " 'Fantasy',\n",
              " 'Fantasy',\n",
              " 'Fantasy',\n",
              " 'Fantasy',\n",
              " 'Fantasy',\n",
              " 'Fantasy',\n",
              " 'Horror',\n",
              " 'Fantasy',\n",
              " 'Fantasy',\n",
              " 'Fantasy',\n",
              " 'Science Fiction',\n",
              " 'Fantasy',\n",
              " 'Fantasy',\n",
              " 'Fantasy',\n",
              " 'Fantasy',\n",
              " 'Fantasy',\n",
              " 'Fantasy',\n",
              " 'Fantasy',\n",
              " 'Fantasy',\n",
              " 'Fantasy',\n",
              " 'Fantasy',\n",
              " 'Fantasy',\n",
              " 'Science Fiction',\n",
              " 'Fantasy',\n",
              " 'Fantasy',\n",
              " 'Thriller',\n",
              " 'Fantasy',\n",
              " 'Fantasy',\n",
              " 'Fantasy',\n",
              " 'Fantasy',\n",
              " 'Fantasy',\n",
              " 'Science Fiction',\n",
              " 'Horror',\n",
              " 'Fantasy',\n",
              " 'Fantasy',\n",
              " 'Fantasy',\n",
              " 'Fantasy',\n",
              " 'Fantasy',\n",
              " 'Fantasy',\n",
              " 'Fantasy',\n",
              " 'Fantasy',\n",
              " 'Fantasy',\n",
              " 'Fantasy',\n",
              " 'Fantasy',\n",
              " 'Fantasy',\n",
              " 'Science Fiction',\n",
              " 'Fantasy',\n",
              " 'Fantasy',\n",
              " 'Fantasy',\n",
              " 'Fantasy',\n",
              " 'Fantasy',\n",
              " 'Fantasy',\n",
              " 'Fantasy',\n",
              " 'Fantasy',\n",
              " 'Fantasy',\n",
              " 'Science Fiction',\n",
              " 'Fantasy',\n",
              " 'Science Fiction',\n",
              " 'Fantasy',\n",
              " 'Fantasy',\n",
              " 'Fantasy',\n",
              " 'Fantasy',\n",
              " 'Fantasy',\n",
              " 'Fantasy',\n",
              " 'Fantasy',\n",
              " 'Fantasy',\n",
              " 'Fantasy',\n",
              " 'Fantasy',\n",
              " 'Fantasy',\n",
              " 'Fantasy',\n",
              " 'Science Fiction',\n",
              " 'Fantasy',\n",
              " 'Fantasy',\n",
              " 'Fantasy',\n",
              " 'Fantasy',\n",
              " 'Fantasy',\n",
              " 'Fantasy',\n",
              " 'Science Fiction',\n",
              " 'Thriller',\n",
              " 'Fantasy',\n",
              " 'Fantasy',\n",
              " 'Fantasy',\n",
              " 'Fantasy',\n",
              " 'Fantasy',\n",
              " 'Fantasy',\n",
              " 'Fantasy',\n",
              " 'Fantasy',\n",
              " 'Fantasy',\n",
              " 'Fantasy',\n",
              " 'Fantasy',\n",
              " 'Fantasy',\n",
              " 'Fantasy',\n",
              " 'Fantasy',\n",
              " 'Fantasy',\n",
              " 'Fantasy',\n",
              " 'Horror',\n",
              " 'Fantasy',\n",
              " 'Fantasy',\n",
              " 'Fantasy',\n",
              " 'Science Fiction',\n",
              " 'Crime Fiction',\n",
              " 'Fantasy',\n",
              " 'Science Fiction',\n",
              " 'Fantasy',\n",
              " 'Fantasy',\n",
              " 'Fantasy',\n",
              " 'Fantasy',\n",
              " 'Fantasy',\n",
              " 'Fantasy',\n",
              " 'Fantasy',\n",
              " 'Fantasy',\n",
              " 'Fantasy',\n",
              " 'Fantasy',\n",
              " 'Fantasy',\n",
              " 'Horror',\n",
              " 'Fantasy',\n",
              " 'Fantasy',\n",
              " 'Fantasy',\n",
              " 'Fantasy',\n",
              " 'Horror',\n",
              " 'Fantasy',\n",
              " 'Fantasy',\n",
              " 'Science Fiction',\n",
              " 'Fantasy',\n",
              " 'Fantasy',\n",
              " 'Fantasy',\n",
              " 'Fantasy',\n",
              " 'Horror',\n",
              " 'Fantasy',\n",
              " 'Fantasy',\n",
              " 'Fantasy',\n",
              " 'Fantasy',\n",
              " 'Fantasy',\n",
              " 'Fantasy',\n",
              " 'Fantasy',\n",
              " 'Fantasy',\n",
              " 'Fantasy',\n",
              " 'Fantasy',\n",
              " 'Fantasy',\n",
              " 'Fantasy',\n",
              " 'Horror',\n",
              " 'Fantasy',\n",
              " 'Science Fiction',\n",
              " 'Historical novel',\n",
              " 'Fantasy',\n",
              " 'Fantasy',\n",
              " 'Fantasy',\n",
              " 'Fantasy',\n",
              " 'Fantasy',\n",
              " 'Fantasy',\n",
              " 'Fantasy',\n",
              " 'Science Fiction',\n",
              " 'Fantasy',\n",
              " 'Fantasy',\n",
              " 'Fantasy',\n",
              " 'Fantasy',\n",
              " 'Fantasy',\n",
              " 'Fantasy',\n",
              " 'Fantasy',\n",
              " 'Fantasy',\n",
              " 'Fantasy',\n",
              " 'Fantasy',\n",
              " 'Fantasy',\n",
              " 'Fantasy',\n",
              " 'Fantasy',\n",
              " 'Fantasy',\n",
              " 'Fantasy',\n",
              " 'Historical novel',\n",
              " 'Fantasy',\n",
              " 'Crime Fiction',\n",
              " 'Fantasy',\n",
              " 'Science Fiction',\n",
              " 'Fantasy',\n",
              " 'Fantasy',\n",
              " 'Fantasy',\n",
              " 'Fantasy',\n",
              " 'Fantasy',\n",
              " 'Fantasy',\n",
              " 'Fantasy',\n",
              " 'Science Fiction',\n",
              " 'Fantasy',\n",
              " 'Historical novel',\n",
              " 'Science Fiction',\n",
              " 'Fantasy',\n",
              " 'Fantasy',\n",
              " 'Fantasy',\n",
              " 'Fantasy',\n",
              " 'Fantasy',\n",
              " 'Fantasy',\n",
              " 'Fantasy',\n",
              " 'Fantasy',\n",
              " 'Fantasy',\n",
              " 'Fantasy',\n",
              " 'Science Fiction',\n",
              " 'Fantasy',\n",
              " 'Fantasy',\n",
              " 'Fantasy',\n",
              " 'Fantasy',\n",
              " 'Fantasy',\n",
              " 'Fantasy',\n",
              " 'Fantasy',\n",
              " 'Thriller',\n",
              " 'Science Fiction',\n",
              " 'Fantasy',\n",
              " 'Fantasy',\n",
              " 'Fantasy',\n",
              " 'Fantasy',\n",
              " 'Fantasy',\n",
              " 'Horror',\n",
              " 'Fantasy',\n",
              " 'Fantasy',\n",
              " 'Fantasy',\n",
              " 'Fantasy',\n",
              " 'Science Fiction',\n",
              " 'Fantasy',\n",
              " 'Fantasy',\n",
              " 'Fantasy',\n",
              " 'Horror',\n",
              " 'Fantasy',\n",
              " 'Fantasy',\n",
              " 'Crime Fiction',\n",
              " 'Fantasy',\n",
              " 'Fantasy',\n",
              " 'Fantasy',\n",
              " 'Fantasy',\n",
              " 'Historical novel',\n",
              " 'Science Fiction',\n",
              " 'Fantasy',\n",
              " 'Horror',\n",
              " 'Fantasy',\n",
              " 'Fantasy',\n",
              " 'Fantasy',\n",
              " 'Science Fiction',\n",
              " 'Fantasy',\n",
              " 'Fantasy',\n",
              " 'Fantasy',\n",
              " 'Fantasy',\n",
              " 'Fantasy',\n",
              " 'Fantasy',\n",
              " 'Fantasy',\n",
              " 'Science Fiction',\n",
              " 'Fantasy',\n",
              " 'Fantasy',\n",
              " 'Fantasy',\n",
              " 'Fantasy',\n",
              " 'Fantasy',\n",
              " 'Fantasy',\n",
              " 'Fantasy',\n",
              " 'Fantasy',\n",
              " 'Fantasy',\n",
              " 'Horror',\n",
              " 'Fantasy',\n",
              " 'Fantasy',\n",
              " 'Fantasy',\n",
              " 'Fantasy',\n",
              " 'Fantasy',\n",
              " 'Fantasy',\n",
              " 'Fantasy',\n",
              " 'Fantasy',\n",
              " 'Fantasy',\n",
              " 'Fantasy',\n",
              " 'Fantasy',\n",
              " 'Fantasy',\n",
              " 'Fantasy',\n",
              " 'Thriller',\n",
              " 'Fantasy',\n",
              " 'Fantasy',\n",
              " 'Fantasy',\n",
              " 'Fantasy',\n",
              " 'Fantasy',\n",
              " 'Fantasy',\n",
              " 'Fantasy',\n",
              " 'Fantasy',\n",
              " 'Fantasy',\n",
              " 'Science Fiction',\n",
              " 'Fantasy',\n",
              " 'Fantasy',\n",
              " 'Fantasy',\n",
              " 'Thriller',\n",
              " 'Fantasy',\n",
              " 'Fantasy',\n",
              " 'Fantasy',\n",
              " 'Fantasy',\n",
              " 'Fantasy',\n",
              " 'Fantasy',\n",
              " 'Fantasy',\n",
              " 'Fantasy',\n",
              " 'Fantasy',\n",
              " 'Fantasy',\n",
              " 'Fantasy',\n",
              " 'Fantasy',\n",
              " 'Fantasy',\n",
              " 'Science Fiction',\n",
              " 'Fantasy',\n",
              " 'Fantasy',\n",
              " 'Fantasy',\n",
              " 'Fantasy',\n",
              " 'Fantasy',\n",
              " 'Fantasy',\n",
              " 'Fantasy',\n",
              " 'Fantasy',\n",
              " 'Fantasy',\n",
              " 'Fantasy',\n",
              " 'Fantasy',\n",
              " 'Fantasy',\n",
              " 'Fantasy',\n",
              " 'Fantasy',\n",
              " 'Fantasy',\n",
              " 'Horror',\n",
              " 'Fantasy',\n",
              " 'Science Fiction',\n",
              " 'Fantasy',\n",
              " 'Historical novel',\n",
              " 'Fantasy',\n",
              " 'Fantasy',\n",
              " 'Fantasy',\n",
              " 'Fantasy',\n",
              " 'Fantasy',\n",
              " 'Fantasy',\n",
              " 'Fantasy',\n",
              " 'Fantasy',\n",
              " 'Fantasy',\n",
              " 'Fantasy',\n",
              " 'Fantasy',\n",
              " 'Fantasy',\n",
              " 'Fantasy',\n",
              " 'Fantasy',\n",
              " 'Fantasy',\n",
              " 'Fantasy',\n",
              " 'Fantasy',\n",
              " 'Fantasy',\n",
              " 'Fantasy',\n",
              " 'Fantasy',\n",
              " 'Fantasy',\n",
              " 'Fantasy',\n",
              " 'Fantasy',\n",
              " 'Fantasy',\n",
              " 'Science Fiction',\n",
              " 'Fantasy',\n",
              " 'Fantasy',\n",
              " 'Thriller',\n",
              " 'Fantasy',\n",
              " 'Fantasy',\n",
              " 'Fantasy',\n",
              " 'Fantasy',\n",
              " 'Fantasy',\n",
              " 'Fantasy',\n",
              " 'Fantasy',\n",
              " 'Fantasy',\n",
              " 'Fantasy',\n",
              " 'Fantasy',\n",
              " 'Fantasy',\n",
              " 'Fantasy',\n",
              " 'Fantasy',\n",
              " 'Fantasy',\n",
              " 'Historical novel',\n",
              " 'Fantasy',\n",
              " 'Fantasy',\n",
              " 'Fantasy',\n",
              " 'Fantasy',\n",
              " 'Fantasy',\n",
              " 'Fantasy',\n",
              " 'Fantasy',\n",
              " 'Fantasy',\n",
              " 'Fantasy',\n",
              " 'Fantasy',\n",
              " 'Fantasy',\n",
              " 'Fantasy',\n",
              " 'Science Fiction',\n",
              " 'Fantasy',\n",
              " 'Fantasy',\n",
              " 'Horror',\n",
              " 'Science Fiction',\n",
              " 'Fantasy',\n",
              " 'Science Fiction',\n",
              " 'Science Fiction',\n",
              " 'Science Fiction',\n",
              " 'Science Fiction',\n",
              " 'Science Fiction',\n",
              " 'Science Fiction',\n",
              " 'Science Fiction',\n",
              " 'Science Fiction',\n",
              " 'Science Fiction',\n",
              " 'Science Fiction',\n",
              " 'Science Fiction',\n",
              " 'Science Fiction',\n",
              " 'Science Fiction',\n",
              " 'Science Fiction',\n",
              " 'Science Fiction',\n",
              " 'Science Fiction',\n",
              " 'Science Fiction',\n",
              " 'Science Fiction',\n",
              " 'Science Fiction',\n",
              " 'Science Fiction',\n",
              " 'Science Fiction',\n",
              " 'Science Fiction',\n",
              " 'Thriller',\n",
              " 'Science Fiction',\n",
              " 'Science Fiction',\n",
              " 'Science Fiction',\n",
              " 'Science Fiction',\n",
              " 'Science Fiction',\n",
              " 'Science Fiction',\n",
              " 'Science Fiction',\n",
              " 'Science Fiction',\n",
              " 'Science Fiction',\n",
              " 'Science Fiction',\n",
              " 'Science Fiction',\n",
              " 'Science Fiction',\n",
              " 'Science Fiction',\n",
              " 'Science Fiction',\n",
              " 'Science Fiction',\n",
              " 'Science Fiction',\n",
              " 'Science Fiction',\n",
              " 'Science Fiction',\n",
              " 'Science Fiction',\n",
              " 'Science Fiction',\n",
              " 'Science Fiction',\n",
              " 'Science Fiction',\n",
              " 'Science Fiction',\n",
              " 'Science Fiction',\n",
              " 'Thriller',\n",
              " 'Science Fiction',\n",
              " 'Science Fiction',\n",
              " 'Science Fiction',\n",
              " 'Science Fiction',\n",
              " 'Science Fiction',\n",
              " 'Science Fiction',\n",
              " 'Science Fiction',\n",
              " 'Science Fiction',\n",
              " 'Science Fiction',\n",
              " 'Science Fiction',\n",
              " 'Science Fiction',\n",
              " 'Science Fiction',\n",
              " 'Science Fiction',\n",
              " 'Science Fiction',\n",
              " 'Science Fiction',\n",
              " 'Science Fiction',\n",
              " 'Science Fiction',\n",
              " 'Science Fiction',\n",
              " 'Science Fiction',\n",
              " 'Science Fiction',\n",
              " 'Science Fiction',\n",
              " 'Science Fiction',\n",
              " 'Science Fiction',\n",
              " 'Science Fiction',\n",
              " 'Science Fiction',\n",
              " 'Science Fiction',\n",
              " 'Science Fiction',\n",
              " 'Science Fiction',\n",
              " 'Science Fiction',\n",
              " 'Science Fiction',\n",
              " 'Science Fiction',\n",
              " 'Science Fiction',\n",
              " 'Science Fiction',\n",
              " 'Science Fiction',\n",
              " 'Science Fiction',\n",
              " 'Science Fiction',\n",
              " 'Science Fiction',\n",
              " 'Science Fiction',\n",
              " 'Science Fiction',\n",
              " 'Historical novel',\n",
              " 'Science Fiction',\n",
              " 'Horror',\n",
              " 'Science Fiction',\n",
              " 'Science Fiction',\n",
              " 'Science Fiction',\n",
              " 'Science Fiction',\n",
              " 'Science Fiction',\n",
              " 'Science Fiction',\n",
              " 'Science Fiction',\n",
              " 'Science Fiction',\n",
              " 'Horror',\n",
              " 'Science Fiction',\n",
              " 'Science Fiction',\n",
              " 'Science Fiction',\n",
              " 'Science Fiction',\n",
              " 'Science Fiction',\n",
              " 'Science Fiction',\n",
              " 'Science Fiction',\n",
              " 'Science Fiction',\n",
              " 'Science Fiction',\n",
              " 'Science Fiction',\n",
              " 'Science Fiction',\n",
              " 'Science Fiction',\n",
              " 'Science Fiction',\n",
              " 'Thriller',\n",
              " 'Science Fiction',\n",
              " 'Science Fiction',\n",
              " 'Science Fiction',\n",
              " 'Historical novel',\n",
              " 'Science Fiction',\n",
              " 'Science Fiction',\n",
              " 'Science Fiction',\n",
              " 'Science Fiction',\n",
              " 'Science Fiction',\n",
              " 'Science Fiction',\n",
              " 'Science Fiction',\n",
              " 'Science Fiction',\n",
              " 'Science Fiction',\n",
              " 'Science Fiction',\n",
              " 'Historical novel',\n",
              " 'Historical novel',\n",
              " 'Science Fiction',\n",
              " 'Science Fiction',\n",
              " 'Science Fiction',\n",
              " 'Science Fiction',\n",
              " 'Science Fiction',\n",
              " 'Science Fiction',\n",
              " 'Science Fiction',\n",
              " 'Thriller',\n",
              " 'Science Fiction',\n",
              " 'Science Fiction',\n",
              " 'Science Fiction',\n",
              " 'Science Fiction',\n",
              " 'Science Fiction',\n",
              " 'Science Fiction',\n",
              " 'Science Fiction',\n",
              " 'Science Fiction',\n",
              " 'Science Fiction',\n",
              " 'Science Fiction',\n",
              " 'Science Fiction',\n",
              " 'Science Fiction',\n",
              " 'Science Fiction',\n",
              " 'Science Fiction',\n",
              " 'Science Fiction',\n",
              " 'Science Fiction',\n",
              " 'Science Fiction',\n",
              " 'Science Fiction',\n",
              " 'Science Fiction',\n",
              " 'Science Fiction',\n",
              " 'Science Fiction',\n",
              " 'Science Fiction',\n",
              " 'Historical novel',\n",
              " 'Science Fiction',\n",
              " 'Science Fiction',\n",
              " 'Science Fiction',\n",
              " 'Science Fiction',\n",
              " 'Science Fiction',\n",
              " 'Science Fiction',\n",
              " 'Science Fiction',\n",
              " 'Science Fiction',\n",
              " 'Science Fiction',\n",
              " 'Science Fiction',\n",
              " 'Science Fiction',\n",
              " 'Science Fiction',\n",
              " 'Science Fiction',\n",
              " 'Science Fiction',\n",
              " 'Thriller',\n",
              " 'Science Fiction',\n",
              " 'Science Fiction',\n",
              " 'Science Fiction',\n",
              " 'Science Fiction',\n",
              " 'Science Fiction',\n",
              " 'Science Fiction',\n",
              " 'Science Fiction',\n",
              " 'Science Fiction',\n",
              " 'Science Fiction',\n",
              " 'Science Fiction',\n",
              " 'Science Fiction',\n",
              " 'Science Fiction',\n",
              " 'Science Fiction',\n",
              " 'Science Fiction',\n",
              " 'Science Fiction',\n",
              " 'Science Fiction',\n",
              " 'Science Fiction',\n",
              " 'Science Fiction',\n",
              " 'Science Fiction',\n",
              " 'Science Fiction',\n",
              " 'Science Fiction',\n",
              " 'Science Fiction',\n",
              " 'Science Fiction',\n",
              " 'Science Fiction',\n",
              " 'Science Fiction',\n",
              " 'Science Fiction',\n",
              " 'Science Fiction',\n",
              " 'Science Fiction',\n",
              " 'Science Fiction',\n",
              " 'Science Fiction',\n",
              " 'Science Fiction',\n",
              " 'Science Fiction',\n",
              " 'Science Fiction',\n",
              " 'Science Fiction',\n",
              " 'Science Fiction',\n",
              " 'Science Fiction',\n",
              " 'Science Fiction',\n",
              " 'Science Fiction',\n",
              " 'Science Fiction',\n",
              " 'Science Fiction',\n",
              " 'Science Fiction',\n",
              " 'Science Fiction',\n",
              " 'Historical novel',\n",
              " 'Science Fiction',\n",
              " 'Science Fiction',\n",
              " 'Science Fiction',\n",
              " 'Science Fiction',\n",
              " 'Science Fiction',\n",
              " 'Science Fiction',\n",
              " 'Science Fiction',\n",
              " 'Science Fiction',\n",
              " 'Science Fiction',\n",
              " 'Science Fiction',\n",
              " 'Science Fiction',\n",
              " 'Science Fiction',\n",
              " 'Science Fiction',\n",
              " 'Horror',\n",
              " 'Science Fiction',\n",
              " 'Science Fiction',\n",
              " 'Science Fiction',\n",
              " 'Horror',\n",
              " 'Science Fiction',\n",
              " 'Science Fiction',\n",
              " 'Science Fiction',\n",
              " 'Science Fiction',\n",
              " 'Thriller',\n",
              " 'Science Fiction',\n",
              " 'Science Fiction',\n",
              " 'Science Fiction',\n",
              " 'Science Fiction',\n",
              " 'Thriller',\n",
              " 'Science Fiction',\n",
              " 'Science Fiction',\n",
              " 'Science Fiction',\n",
              " 'Science Fiction',\n",
              " 'Science Fiction',\n",
              " 'Science Fiction',\n",
              " 'Science Fiction',\n",
              " 'Science Fiction',\n",
              " 'Science Fiction',\n",
              " 'Science Fiction',\n",
              " 'Science Fiction',\n",
              " 'Science Fiction',\n",
              " 'Science Fiction',\n",
              " 'Science Fiction',\n",
              " 'Science Fiction',\n",
              " 'Science Fiction',\n",
              " 'Science Fiction',\n",
              " 'Science Fiction',\n",
              " 'Science Fiction',\n",
              " 'Science Fiction',\n",
              " 'Science Fiction',\n",
              " 'Science Fiction',\n",
              " 'Science Fiction',\n",
              " 'Science Fiction',\n",
              " 'Science Fiction',\n",
              " 'Science Fiction',\n",
              " 'Science Fiction',\n",
              " 'Science Fiction',\n",
              " 'Science Fiction',\n",
              " 'Science Fiction',\n",
              " 'Science Fiction',\n",
              " 'Science Fiction',\n",
              " 'Science Fiction',\n",
              " 'Science Fiction',\n",
              " 'Science Fiction',\n",
              " 'Science Fiction',\n",
              " 'Science Fiction',\n",
              " 'Science Fiction',\n",
              " 'Science Fiction',\n",
              " 'Science Fiction',\n",
              " 'Science Fiction',\n",
              " 'Historical novel',\n",
              " 'Science Fiction',\n",
              " 'Science Fiction',\n",
              " 'Science Fiction',\n",
              " 'Science Fiction',\n",
              " 'Science Fiction',\n",
              " 'Science Fiction',\n",
              " 'Science Fiction',\n",
              " 'Science Fiction',\n",
              " 'Science Fiction',\n",
              " 'Science Fiction',\n",
              " 'Science Fiction',\n",
              " 'Science Fiction',\n",
              " 'Science Fiction',\n",
              " 'Science Fiction',\n",
              " 'Science Fiction',\n",
              " 'Science Fiction',\n",
              " 'Science Fiction',\n",
              " 'Science Fiction',\n",
              " 'Science Fiction',\n",
              " 'Science Fiction',\n",
              " 'Science Fiction',\n",
              " 'Science Fiction',\n",
              " 'Science Fiction',\n",
              " 'Science Fiction',\n",
              " 'Science Fiction',\n",
              " 'Science Fiction',\n",
              " 'Science Fiction',\n",
              " 'Science Fiction',\n",
              " 'Science Fiction',\n",
              " 'Science Fiction',\n",
              " 'Science Fiction',\n",
              " 'Science Fiction',\n",
              " 'Science Fiction',\n",
              " 'Horror',\n",
              " 'Science Fiction',\n",
              " 'Science Fiction',\n",
              " 'Science Fiction',\n",
              " 'Science Fiction',\n",
              " 'Science Fiction',\n",
              " 'Science Fiction',\n",
              " 'Science Fiction',\n",
              " 'Science Fiction',\n",
              " 'Science Fiction',\n",
              " 'Science Fiction',\n",
              " 'Science Fiction',\n",
              " 'Science Fiction',\n",
              " 'Science Fiction',\n",
              " 'Science Fiction',\n",
              " 'Science Fiction',\n",
              " 'Science Fiction',\n",
              " 'Science Fiction',\n",
              " 'Science Fiction',\n",
              " 'Science Fiction',\n",
              " 'Science Fiction',\n",
              " 'Thriller',\n",
              " 'Science Fiction',\n",
              " 'Science Fiction',\n",
              " 'Science Fiction',\n",
              " 'Science Fiction',\n",
              " 'Science Fiction',\n",
              " 'Science Fiction',\n",
              " 'Science Fiction',\n",
              " 'Science Fiction',\n",
              " 'Science Fiction',\n",
              " 'Science Fiction',\n",
              " 'Science Fiction',\n",
              " 'Science Fiction',\n",
              " 'Science Fiction',\n",
              " 'Science Fiction',\n",
              " 'Science Fiction',\n",
              " 'Science Fiction',\n",
              " 'Science Fiction',\n",
              " 'Science Fiction',\n",
              " 'Science Fiction',\n",
              " 'Science Fiction',\n",
              " 'Science Fiction',\n",
              " 'Science Fiction',\n",
              " 'Science Fiction',\n",
              " 'Science Fiction',\n",
              " 'Science Fiction',\n",
              " 'Science Fiction',\n",
              " 'Science Fiction',\n",
              " 'Science Fiction',\n",
              " 'Thriller',\n",
              " 'Science Fiction',\n",
              " 'Science Fiction',\n",
              " 'Science Fiction',\n",
              " 'Science Fiction',\n",
              " 'Science Fiction',\n",
              " 'Science Fiction',\n",
              " 'Science Fiction',\n",
              " 'Science Fiction',\n",
              " 'Science Fiction',\n",
              " 'Science Fiction',\n",
              " 'Science Fiction',\n",
              " 'Science Fiction',\n",
              " 'Science Fiction',\n",
              " 'Science Fiction',\n",
              " 'Science Fiction',\n",
              " 'Science Fiction',\n",
              " 'Science Fiction',\n",
              " 'Science Fiction',\n",
              " 'Science Fiction',\n",
              " 'Horror',\n",
              " 'Science Fiction',\n",
              " 'Science Fiction',\n",
              " 'Science Fiction',\n",
              " 'Science Fiction',\n",
              " 'Science Fiction',\n",
              " 'Science Fiction',\n",
              " 'Horror',\n",
              " 'Science Fiction',\n",
              " 'Fantasy',\n",
              " 'Science Fiction',\n",
              " 'Science Fiction',\n",
              " 'Science Fiction',\n",
              " 'Science Fiction',\n",
              " 'Science Fiction',\n",
              " 'Science Fiction',\n",
              " 'Science Fiction',\n",
              " 'Science Fiction',\n",
              " 'Science Fiction',\n",
              " 'Science Fiction',\n",
              " 'Science Fiction',\n",
              " 'Science Fiction',\n",
              " 'Science Fiction',\n",
              " 'Science Fiction',\n",
              " 'Science Fiction',\n",
              " 'Science Fiction',\n",
              " 'Science Fiction',\n",
              " 'Science Fiction',\n",
              " 'Science Fiction',\n",
              " 'Science Fiction',\n",
              " 'Science Fiction',\n",
              " 'Science Fiction',\n",
              " 'Historical novel',\n",
              " 'Science Fiction',\n",
              " 'Science Fiction',\n",
              " 'Science Fiction',\n",
              " 'Science Fiction',\n",
              " 'Science Fiction',\n",
              " 'Science Fiction',\n",
              " 'Science Fiction',\n",
              " 'Science Fiction',\n",
              " 'Science Fiction',\n",
              " 'Science Fiction',\n",
              " 'Science Fiction',\n",
              " 'Science Fiction',\n",
              " 'Science Fiction',\n",
              " 'Science Fiction',\n",
              " 'Science Fiction',\n",
              " 'Science Fiction',\n",
              " 'Science Fiction',\n",
              " 'Science Fiction',\n",
              " 'Science Fiction',\n",
              " 'Science Fiction',\n",
              " 'Science Fiction',\n",
              " 'Science Fiction',\n",
              " 'Science Fiction',\n",
              " 'Science Fiction',\n",
              " 'Science Fiction',\n",
              " 'Historical novel',\n",
              " 'Science Fiction',\n",
              " 'Science Fiction',\n",
              " 'Thriller',\n",
              " 'Historical novel',\n",
              " 'Science Fiction',\n",
              " 'Horror',\n",
              " 'Science Fiction',\n",
              " 'Thriller',\n",
              " 'Science Fiction',\n",
              " 'Science Fiction',\n",
              " 'Science Fiction',\n",
              " 'Fantasy',\n",
              " 'Science Fiction',\n",
              " 'Science Fiction',\n",
              " 'Science Fiction',\n",
              " 'Science Fiction',\n",
              " 'Science Fiction',\n",
              " 'Science Fiction',\n",
              " 'Science Fiction',\n",
              " 'Science Fiction',\n",
              " 'Science Fiction',\n",
              " 'Science Fiction',\n",
              " 'Science Fiction',\n",
              " 'Science Fiction',\n",
              " 'Science Fiction',\n",
              " 'Science Fiction',\n",
              " 'Science Fiction',\n",
              " 'Science Fiction',\n",
              " 'Science Fiction',\n",
              " 'Science Fiction',\n",
              " 'Science Fiction',\n",
              " 'Science Fiction',\n",
              " 'Science Fiction',\n",
              " 'Science Fiction',\n",
              " 'Science Fiction',\n",
              " 'Science Fiction',\n",
              " 'Thriller',\n",
              " 'Science Fiction',\n",
              " 'Science Fiction',\n",
              " 'Science Fiction',\n",
              " 'Science Fiction',\n",
              " 'Science Fiction',\n",
              " 'Science Fiction',\n",
              " 'Science Fiction',\n",
              " 'Science Fiction',\n",
              " 'Science Fiction',\n",
              " 'Science Fiction',\n",
              " 'Science Fiction',\n",
              " 'Science Fiction',\n",
              " 'Science Fiction',\n",
              " ...]"
            ]
          },
          "metadata": {},
          "execution_count": 28
        }
      ]
    },
    {
      "cell_type": "code",
      "source": [
        "mapper"
      ],
      "metadata": {
        "colab": {
          "base_uri": "https://localhost:8080/"
        },
        "id": "2447gT6bzTsG",
        "outputId": "0deb767c-a397-4f62-9684-5294507b1953"
      },
      "execution_count": 29,
      "outputs": [
        {
          "output_type": "execute_result",
          "data": {
            "text/plain": [
              "{'Crime Fiction': 2,\n",
              " 'Fantasy': 0,\n",
              " 'Historical novel': 3,\n",
              " 'Horror': 4,\n",
              " 'Science Fiction': 1,\n",
              " 'Thriller': 5}"
            ]
          },
          "metadata": {},
          "execution_count": 29
        }
      ]
    },
    {
      "cell_type": "code",
      "source": [
        "## map to the training genre\n",
        "newmap = dict([(value, key) for key, value in mapper.items()]) \n",
        "newmap"
      ],
      "metadata": {
        "colab": {
          "base_uri": "https://localhost:8080/"
        },
        "id": "QW7TDKImzXbC",
        "outputId": "a1887182-8644-4a16-ae80-4928e9e739cd"
      },
      "execution_count": 30,
      "outputs": [
        {
          "output_type": "execute_result",
          "data": {
            "text/plain": [
              "{0: 'Fantasy',\n",
              " 1: 'Science Fiction',\n",
              " 2: 'Crime Fiction',\n",
              " 3: 'Historical novel',\n",
              " 4: 'Horror',\n",
              " 5: 'Thriller'}"
            ]
          },
          "metadata": {},
          "execution_count": 30
        }
      ]
    },
    {
      "cell_type": "code",
      "source": [
        "print(newmap)"
      ],
      "metadata": {
        "colab": {
          "base_uri": "https://localhost:8080/"
        },
        "id": "-5PtM5NGz0Hm",
        "outputId": "fcd82d8a-8b72-463c-fafb-53751a0619c3"
      },
      "execution_count": 31,
      "outputs": [
        {
          "output_type": "stream",
          "name": "stdout",
          "text": [
            "{0: 'Fantasy', 1: 'Science Fiction', 2: 'Crime Fiction', 3: 'Historical novel', 4: 'Horror', 5: 'Thriller'}\n"
          ]
        }
      ]
    },
    {
      "cell_type": "code",
      "source": [
        "books['Actual Genre'] = books['genre'].map(newmap)\n",
        "books['Predicted_genre'] = np.array(predicted_genres)\n",
        "books.head()"
      ],
      "metadata": {
        "colab": {
          "base_uri": "https://localhost:8080/",
          "height": 204
        },
        "id": "SjQXqhq9z2nF",
        "outputId": "a3209a9e-f558-424b-f791-36131ce47b8b"
      },
      "execution_count": 32,
      "outputs": [
        {
          "output_type": "execute_result",
          "data": {
            "text/html": [
              "\n",
              "  <div id=\"df-fb7923bc-3c0d-4769-b1ae-6e7117f38946\">\n",
              "    <div class=\"colab-df-container\">\n",
              "      <div>\n",
              "<style scoped>\n",
              "    .dataframe tbody tr th:only-of-type {\n",
              "        vertical-align: middle;\n",
              "    }\n",
              "\n",
              "    .dataframe tbody tr th {\n",
              "        vertical-align: top;\n",
              "    }\n",
              "\n",
              "    .dataframe thead th {\n",
              "        text-align: right;\n",
              "    }\n",
              "</style>\n",
              "<table border=\"1\" class=\"dataframe\">\n",
              "  <thead>\n",
              "    <tr style=\"text-align: right;\">\n",
              "      <th></th>\n",
              "      <th>book_id</th>\n",
              "      <th>book_name</th>\n",
              "      <th>genre</th>\n",
              "      <th>summary</th>\n",
              "      <th>Actual Genre</th>\n",
              "      <th>Predicted_genre</th>\n",
              "    </tr>\n",
              "  </thead>\n",
              "  <tbody>\n",
              "    <tr>\n",
              "      <th>0</th>\n",
              "      <td>3248537</td>\n",
              "      <td>Drowned Wednesday</td>\n",
              "      <td>0</td>\n",
              "      <td>drown wednesday first truste among morrow day ...</td>\n",
              "      <td>Fantasy</td>\n",
              "      <td>Fantasy</td>\n",
              "    </tr>\n",
              "    <tr>\n",
              "      <th>1</th>\n",
              "      <td>27796919</td>\n",
              "      <td>The Lost Hero</td>\n",
              "      <td>0</td>\n",
              "      <td>book open jason awaken school bu unabl rememb ...</td>\n",
              "      <td>Fantasy</td>\n",
              "      <td>Fantasy</td>\n",
              "    </tr>\n",
              "    <tr>\n",
              "      <th>2</th>\n",
              "      <td>3910776</td>\n",
              "      <td>The Eyes of the Overworld</td>\n",
              "      <td>0</td>\n",
              "      <td>cugel easili persuad merchant fianosth attempt...</td>\n",
              "      <td>Fantasy</td>\n",
              "      <td>Fantasy</td>\n",
              "    </tr>\n",
              "    <tr>\n",
              "      <th>3</th>\n",
              "      <td>5969644</td>\n",
              "      <td>Magic's Promise</td>\n",
              "      <td>0</td>\n",
              "      <td>book open herald mage vanyel return countri va...</td>\n",
              "      <td>Fantasy</td>\n",
              "      <td>Fantasy</td>\n",
              "    </tr>\n",
              "    <tr>\n",
              "      <th>4</th>\n",
              "      <td>3173445</td>\n",
              "      <td>Taran Wanderer</td>\n",
              "      <td>0</td>\n",
              "      <td>taran gurgi return caer dallben follow event t...</td>\n",
              "      <td>Fantasy</td>\n",
              "      <td>Fantasy</td>\n",
              "    </tr>\n",
              "  </tbody>\n",
              "</table>\n",
              "</div>\n",
              "      <button class=\"colab-df-convert\" onclick=\"convertToInteractive('df-fb7923bc-3c0d-4769-b1ae-6e7117f38946')\"\n",
              "              title=\"Convert this dataframe to an interactive table.\"\n",
              "              style=\"display:none;\">\n",
              "        \n",
              "  <svg xmlns=\"http://www.w3.org/2000/svg\" height=\"24px\"viewBox=\"0 0 24 24\"\n",
              "       width=\"24px\">\n",
              "    <path d=\"M0 0h24v24H0V0z\" fill=\"none\"/>\n",
              "    <path d=\"M18.56 5.44l.94 2.06.94-2.06 2.06-.94-2.06-.94-.94-2.06-.94 2.06-2.06.94zm-11 1L8.5 8.5l.94-2.06 2.06-.94-2.06-.94L8.5 2.5l-.94 2.06-2.06.94zm10 10l.94 2.06.94-2.06 2.06-.94-2.06-.94-.94-2.06-.94 2.06-2.06.94z\"/><path d=\"M17.41 7.96l-1.37-1.37c-.4-.4-.92-.59-1.43-.59-.52 0-1.04.2-1.43.59L10.3 9.45l-7.72 7.72c-.78.78-.78 2.05 0 2.83L4 21.41c.39.39.9.59 1.41.59.51 0 1.02-.2 1.41-.59l7.78-7.78 2.81-2.81c.8-.78.8-2.07 0-2.86zM5.41 20L4 18.59l7.72-7.72 1.47 1.35L5.41 20z\"/>\n",
              "  </svg>\n",
              "      </button>\n",
              "      \n",
              "  <style>\n",
              "    .colab-df-container {\n",
              "      display:flex;\n",
              "      flex-wrap:wrap;\n",
              "      gap: 12px;\n",
              "    }\n",
              "\n",
              "    .colab-df-convert {\n",
              "      background-color: #E8F0FE;\n",
              "      border: none;\n",
              "      border-radius: 50%;\n",
              "      cursor: pointer;\n",
              "      display: none;\n",
              "      fill: #1967D2;\n",
              "      height: 32px;\n",
              "      padding: 0 0 0 0;\n",
              "      width: 32px;\n",
              "    }\n",
              "\n",
              "    .colab-df-convert:hover {\n",
              "      background-color: #E2EBFA;\n",
              "      box-shadow: 0px 1px 2px rgba(60, 64, 67, 0.3), 0px 1px 3px 1px rgba(60, 64, 67, 0.15);\n",
              "      fill: #174EA6;\n",
              "    }\n",
              "\n",
              "    [theme=dark] .colab-df-convert {\n",
              "      background-color: #3B4455;\n",
              "      fill: #D2E3FC;\n",
              "    }\n",
              "\n",
              "    [theme=dark] .colab-df-convert:hover {\n",
              "      background-color: #434B5C;\n",
              "      box-shadow: 0px 1px 3px 1px rgba(0, 0, 0, 0.15);\n",
              "      filter: drop-shadow(0px 1px 2px rgba(0, 0, 0, 0.3));\n",
              "      fill: #FFFFFF;\n",
              "    }\n",
              "  </style>\n",
              "\n",
              "      <script>\n",
              "        const buttonEl =\n",
              "          document.querySelector('#df-fb7923bc-3c0d-4769-b1ae-6e7117f38946 button.colab-df-convert');\n",
              "        buttonEl.style.display =\n",
              "          google.colab.kernel.accessAllowed ? 'block' : 'none';\n",
              "\n",
              "        async function convertToInteractive(key) {\n",
              "          const element = document.querySelector('#df-fb7923bc-3c0d-4769-b1ae-6e7117f38946');\n",
              "          const dataTable =\n",
              "            await google.colab.kernel.invokeFunction('convertToInteractive',\n",
              "                                                     [key], {});\n",
              "          if (!dataTable) return;\n",
              "\n",
              "          const docLinkHtml = 'Like what you see? Visit the ' +\n",
              "            '<a target=\"_blank\" href=https://colab.research.google.com/notebooks/data_table.ipynb>data table notebook</a>'\n",
              "            + ' to learn more about interactive tables.';\n",
              "          element.innerHTML = '';\n",
              "          dataTable['output_type'] = 'display_data';\n",
              "          await google.colab.output.renderOutput(dataTable, element);\n",
              "          const docLink = document.createElement('div');\n",
              "          docLink.innerHTML = docLinkHtml;\n",
              "          element.appendChild(docLink);\n",
              "        }\n",
              "      </script>\n",
              "    </div>\n",
              "  </div>\n",
              "  "
            ],
            "text/plain": [
              "    book_id                  book_name  ...  Actual Genre Predicted_genre\n",
              "0   3248537          Drowned Wednesday  ...       Fantasy         Fantasy\n",
              "1  27796919              The Lost Hero  ...       Fantasy         Fantasy\n",
              "2   3910776  The Eyes of the Overworld  ...       Fantasy         Fantasy\n",
              "3   5969644            Magic's Promise  ...       Fantasy         Fantasy\n",
              "4   3173445             Taran Wanderer  ...       Fantasy         Fantasy\n",
              "\n",
              "[5 rows x 6 columns]"
            ]
          },
          "metadata": {},
          "execution_count": 32
        }
      ]
    },
    {
      "cell_type": "code",
      "source": [
        "books = books[['book_name', 'summary', 'Actual Genre', 'Predicted_genre']]\n",
        "books"
      ],
      "metadata": {
        "colab": {
          "base_uri": "https://localhost:8080/",
          "height": 419
        },
        "id": "rH_M3oPZ0Ovb",
        "outputId": "f22dc8d1-b682-4975-94f3-500951cbe1ad"
      },
      "execution_count": 33,
      "outputs": [
        {
          "output_type": "execute_result",
          "data": {
            "text/html": [
              "\n",
              "  <div id=\"df-c69a875f-9342-42f9-b982-367c935c3b4d\">\n",
              "    <div class=\"colab-df-container\">\n",
              "      <div>\n",
              "<style scoped>\n",
              "    .dataframe tbody tr th:only-of-type {\n",
              "        vertical-align: middle;\n",
              "    }\n",
              "\n",
              "    .dataframe tbody tr th {\n",
              "        vertical-align: top;\n",
              "    }\n",
              "\n",
              "    .dataframe thead th {\n",
              "        text-align: right;\n",
              "    }\n",
              "</style>\n",
              "<table border=\"1\" class=\"dataframe\">\n",
              "  <thead>\n",
              "    <tr style=\"text-align: right;\">\n",
              "      <th></th>\n",
              "      <th>book_name</th>\n",
              "      <th>summary</th>\n",
              "      <th>Actual Genre</th>\n",
              "      <th>Predicted_genre</th>\n",
              "    </tr>\n",
              "  </thead>\n",
              "  <tbody>\n",
              "    <tr>\n",
              "      <th>0</th>\n",
              "      <td>Drowned Wednesday</td>\n",
              "      <td>drown wednesday first truste among morrow day ...</td>\n",
              "      <td>Fantasy</td>\n",
              "      <td>Fantasy</td>\n",
              "    </tr>\n",
              "    <tr>\n",
              "      <th>1</th>\n",
              "      <td>The Lost Hero</td>\n",
              "      <td>book open jason awaken school bu unabl rememb ...</td>\n",
              "      <td>Fantasy</td>\n",
              "      <td>Fantasy</td>\n",
              "    </tr>\n",
              "    <tr>\n",
              "      <th>2</th>\n",
              "      <td>The Eyes of the Overworld</td>\n",
              "      <td>cugel easili persuad merchant fianosth attempt...</td>\n",
              "      <td>Fantasy</td>\n",
              "      <td>Fantasy</td>\n",
              "    </tr>\n",
              "    <tr>\n",
              "      <th>3</th>\n",
              "      <td>Magic's Promise</td>\n",
              "      <td>book open herald mage vanyel return countri va...</td>\n",
              "      <td>Fantasy</td>\n",
              "      <td>Fantasy</td>\n",
              "    </tr>\n",
              "    <tr>\n",
              "      <th>4</th>\n",
              "      <td>Taran Wanderer</td>\n",
              "      <td>taran gurgi return caer dallben follow event t...</td>\n",
              "      <td>Fantasy</td>\n",
              "      <td>Fantasy</td>\n",
              "    </tr>\n",
              "    <tr>\n",
              "      <th>...</th>\n",
              "      <td>...</td>\n",
              "      <td>...</td>\n",
              "      <td>...</td>\n",
              "      <td>...</td>\n",
              "    </tr>\n",
              "    <tr>\n",
              "      <th>2995</th>\n",
              "      <td>White Death</td>\n",
              "      <td>novel numa file kurt austin adventur novel mai...</td>\n",
              "      <td>Thriller</td>\n",
              "      <td>Science Fiction</td>\n",
              "    </tr>\n",
              "    <tr>\n",
              "      <th>2996</th>\n",
              "      <td>Venus with Pistol</td>\n",
              "      <td>gilbert kemp dealer special antiqu gun london ...</td>\n",
              "      <td>Thriller</td>\n",
              "      <td>Thriller</td>\n",
              "    </tr>\n",
              "    <tr>\n",
              "      <th>2997</th>\n",
              "      <td>Blackwater</td>\n",
              "      <td>know deep davey alway live shadow older brothe...</td>\n",
              "      <td>Thriller</td>\n",
              "      <td>Thriller</td>\n",
              "    </tr>\n",
              "    <tr>\n",
              "      <th>2998</th>\n",
              "      <td>The Rainbow and the Rose</td>\n",
              "      <td>stori concern life johnni pasco retir commerci...</td>\n",
              "      <td>Thriller</td>\n",
              "      <td>Thriller</td>\n",
              "    </tr>\n",
              "    <tr>\n",
              "      <th>2999</th>\n",
              "      <td>Chiefs</td>\n",
              "      <td>first chief henri lee novel open grow town del...</td>\n",
              "      <td>Thriller</td>\n",
              "      <td>Thriller</td>\n",
              "    </tr>\n",
              "  </tbody>\n",
              "</table>\n",
              "<p>3000 rows × 4 columns</p>\n",
              "</div>\n",
              "      <button class=\"colab-df-convert\" onclick=\"convertToInteractive('df-c69a875f-9342-42f9-b982-367c935c3b4d')\"\n",
              "              title=\"Convert this dataframe to an interactive table.\"\n",
              "              style=\"display:none;\">\n",
              "        \n",
              "  <svg xmlns=\"http://www.w3.org/2000/svg\" height=\"24px\"viewBox=\"0 0 24 24\"\n",
              "       width=\"24px\">\n",
              "    <path d=\"M0 0h24v24H0V0z\" fill=\"none\"/>\n",
              "    <path d=\"M18.56 5.44l.94 2.06.94-2.06 2.06-.94-2.06-.94-.94-2.06-.94 2.06-2.06.94zm-11 1L8.5 8.5l.94-2.06 2.06-.94-2.06-.94L8.5 2.5l-.94 2.06-2.06.94zm10 10l.94 2.06.94-2.06 2.06-.94-2.06-.94-.94-2.06-.94 2.06-2.06.94z\"/><path d=\"M17.41 7.96l-1.37-1.37c-.4-.4-.92-.59-1.43-.59-.52 0-1.04.2-1.43.59L10.3 9.45l-7.72 7.72c-.78.78-.78 2.05 0 2.83L4 21.41c.39.39.9.59 1.41.59.51 0 1.02-.2 1.41-.59l7.78-7.78 2.81-2.81c.8-.78.8-2.07 0-2.86zM5.41 20L4 18.59l7.72-7.72 1.47 1.35L5.41 20z\"/>\n",
              "  </svg>\n",
              "      </button>\n",
              "      \n",
              "  <style>\n",
              "    .colab-df-container {\n",
              "      display:flex;\n",
              "      flex-wrap:wrap;\n",
              "      gap: 12px;\n",
              "    }\n",
              "\n",
              "    .colab-df-convert {\n",
              "      background-color: #E8F0FE;\n",
              "      border: none;\n",
              "      border-radius: 50%;\n",
              "      cursor: pointer;\n",
              "      display: none;\n",
              "      fill: #1967D2;\n",
              "      height: 32px;\n",
              "      padding: 0 0 0 0;\n",
              "      width: 32px;\n",
              "    }\n",
              "\n",
              "    .colab-df-convert:hover {\n",
              "      background-color: #E2EBFA;\n",
              "      box-shadow: 0px 1px 2px rgba(60, 64, 67, 0.3), 0px 1px 3px 1px rgba(60, 64, 67, 0.15);\n",
              "      fill: #174EA6;\n",
              "    }\n",
              "\n",
              "    [theme=dark] .colab-df-convert {\n",
              "      background-color: #3B4455;\n",
              "      fill: #D2E3FC;\n",
              "    }\n",
              "\n",
              "    [theme=dark] .colab-df-convert:hover {\n",
              "      background-color: #434B5C;\n",
              "      box-shadow: 0px 1px 3px 1px rgba(0, 0, 0, 0.15);\n",
              "      filter: drop-shadow(0px 1px 2px rgba(0, 0, 0, 0.3));\n",
              "      fill: #FFFFFF;\n",
              "    }\n",
              "  </style>\n",
              "\n",
              "      <script>\n",
              "        const buttonEl =\n",
              "          document.querySelector('#df-c69a875f-9342-42f9-b982-367c935c3b4d button.colab-df-convert');\n",
              "        buttonEl.style.display =\n",
              "          google.colab.kernel.accessAllowed ? 'block' : 'none';\n",
              "\n",
              "        async function convertToInteractive(key) {\n",
              "          const element = document.querySelector('#df-c69a875f-9342-42f9-b982-367c935c3b4d');\n",
              "          const dataTable =\n",
              "            await google.colab.kernel.invokeFunction('convertToInteractive',\n",
              "                                                     [key], {});\n",
              "          if (!dataTable) return;\n",
              "\n",
              "          const docLinkHtml = 'Like what you see? Visit the ' +\n",
              "            '<a target=\"_blank\" href=https://colab.research.google.com/notebooks/data_table.ipynb>data table notebook</a>'\n",
              "            + ' to learn more about interactive tables.';\n",
              "          element.innerHTML = '';\n",
              "          dataTable['output_type'] = 'display_data';\n",
              "          await google.colab.output.renderOutput(dataTable, element);\n",
              "          const docLink = document.createElement('div');\n",
              "          docLink.innerHTML = docLinkHtml;\n",
              "          element.appendChild(docLink);\n",
              "        }\n",
              "      </script>\n",
              "    </div>\n",
              "  </div>\n",
              "  "
            ],
            "text/plain": [
              "                      book_name  ...  Predicted_genre\n",
              "0             Drowned Wednesday  ...          Fantasy\n",
              "1                 The Lost Hero  ...          Fantasy\n",
              "2     The Eyes of the Overworld  ...          Fantasy\n",
              "3               Magic's Promise  ...          Fantasy\n",
              "4                Taran Wanderer  ...          Fantasy\n",
              "...                         ...  ...              ...\n",
              "2995                White Death  ...  Science Fiction\n",
              "2996          Venus with Pistol  ...         Thriller\n",
              "2997                 Blackwater  ...         Thriller\n",
              "2998   The Rainbow and the Rose  ...         Thriller\n",
              "2999                     Chiefs  ...         Thriller\n",
              "\n",
              "[3000 rows x 4 columns]"
            ]
          },
          "metadata": {},
          "execution_count": 33
        }
      ]
    },
    {
      "cell_type": "code",
      "source": [
        "dict(Counter(books['Actual Genre'].values))"
      ],
      "metadata": {
        "colab": {
          "base_uri": "https://localhost:8080/"
        },
        "id": "NET2k4VU0ZtK",
        "outputId": "89529e8b-340c-48a1-8203-62b6ebb752cb"
      },
      "execution_count": 34,
      "outputs": [
        {
          "output_type": "execute_result",
          "data": {
            "text/plain": [
              "{'Crime Fiction': 500,\n",
              " 'Fantasy': 500,\n",
              " 'Historical novel': 500,\n",
              " 'Horror': 500,\n",
              " 'Science Fiction': 500,\n",
              " 'Thriller': 500}"
            ]
          },
          "metadata": {},
          "execution_count": 34
        }
      ]
    },
    {
      "cell_type": "code",
      "source": [
        "dict(Counter(books['Predicted_genre'].values))"
      ],
      "metadata": {
        "colab": {
          "base_uri": "https://localhost:8080/"
        },
        "id": "flVJlDna0qQL",
        "outputId": "8e7b7db8-2f91-469b-d976-49b3eedfa9ea"
      },
      "execution_count": 35,
      "outputs": [
        {
          "output_type": "execute_result",
          "data": {
            "text/plain": [
              "{'Crime Fiction': 520,\n",
              " 'Fantasy': 462,\n",
              " 'Historical novel': 501,\n",
              " 'Horror': 504,\n",
              " 'Science Fiction': 536,\n",
              " 'Thriller': 477}"
            ]
          },
          "metadata": {},
          "execution_count": 35
        }
      ]
    },
    {
      "cell_type": "code",
      "source": [
        "sn.countplot(x = books['Predicted_genre'])\n",
        "plt.xticks(rotation='45');"
      ],
      "metadata": {
        "colab": {
          "base_uri": "https://localhost:8080/",
          "height": 332
        },
        "id": "VHncu31i0wxG",
        "outputId": "edc92e81-1a5f-4101-e7af-e8e609840123"
      },
      "execution_count": 36,
      "outputs": [
        {
          "output_type": "display_data",
          "data": {
            "image/png": "[encoded data removed]",
            "text/plain": [
              "<Figure size 432x288 with 1 Axes>"
            ]
          },
          "metadata": {
            "needs_background": "light"
          }
        }
      ]
    },
    {
      "cell_type": "code",
      "source": [
        "sn.countplot(x = books['Actual Genre'])\n",
        "plt.xticks(rotation='45');"
      ],
      "metadata": {
        "colab": {
          "base_uri": "https://localhost:8080/",
          "height": 331
        },
        "id": "qLYFadJh08Ma",
        "outputId": "cda0d28e-a7f5-4e84-b6e5-989c963e2833"
      },
      "execution_count": 37,
      "outputs": [
        {
          "output_type": "display_data",
          "data": {
            "image/png": "[encoded data removed]",
            "text/plain": [
              "<Figure size 432x288 with 1 Axes>"
            ]
          },
          "metadata": {
            "needs_background": "light"
          }
        }
      ]
    },
    {
      "cell_type": "code",
      "source": [
        "import pickle \n",
        "file = open('drive/MyDrive/Book_Genre_Classi/bookgenremodel.pkl', 'wb')\n",
        "pickle.dump(mb, file)\n",
        "file.close()"
      ],
      "metadata": {
        "id": "OnmTyAqR1FFP"
      },
      "execution_count": 38,
      "outputs": []
    },
    {
      "cell_type": "code",
      "source": [
        "books['summary'].iloc[1]"
      ],
      "metadata": {
        "colab": {
          "base_uri": "https://localhost:8080/",
          "height": 174
        },
        "id": "qCzGymOt1YDu",
        "outputId": "706f04eb-495f-4ba7-c825-c02021fe05fc"
      },
      "execution_count": 39,
      "outputs": [
        {
          "output_type": "execute_result",
          "data": {
            "application/vnd.google.colaboratory.intrinsic+json": {
              "type": "string"
            },
            "text/plain": [
              "'book open jason awaken school bu unabl rememb anyth past sit next piper mclean leo valdez call name say girlfriend best friend respect three part class field trip grand canyon arriv classmat dylan turn venti storm spirit attack trio trip leader coach gleeson hedg ensu fight jason surpris everyon includ one coin turn sword us battl storm spirit coach hedg reveal satyr fight taken captiv flee spirit battl fli chariot arriv rescu trio one peopl annabeth upset discov miss boyfriend perci jackson expect annabeth seek perci told vision goddess hera look guy one shoe turn jason shoe destroy fight jason piper leo told demigod taken back camp half blood meet greek demigod child like leo reveal son hephaestu piper daughter aphrodit jason son zeu though hera tell champion jason later discov full brother zeu demigod daughter thalia grace hunter artemi shortli arriv three given quest rescu hera captur set soon discov enemi work order gaea overthrow god quest encount thalia hunter look perci thalia jason reunit first sinc jason captur age two way aeolu castl jason leo piper becom separ thalia promis meet wolf hous last place thalia seen jason meet nearli apprehend aeolu gaea order trio manag escap thank melli aeolu former assist end san francisco thank result dream piper aphrodit land san francisco trio rush mt diablo fight giant enceladu kidnap piper father manag kill giant save piper father rush wolf hous free hera although hero hunter save hera king giant porphyrion rise fulli disappear hole earth jason memori start return rememb hero roman counterpart camp half blood somewher near san francisco son jupit zeu roman aspect realiz hera also known juno switch perci jackson roman camp memori life hope two camp would ultim work togeth fight giant defeat goddess gaea '"
            ]
          },
          "metadata": {},
          "execution_count": 39
        }
      ]
    },
    {
      "cell_type": "code",
      "source": [
        "tfidf_vectorizer"
      ],
      "metadata": {
        "colab": {
          "base_uri": "https://localhost:8080/"
        },
        "id": "aEyxe0Mp1bjG",
        "outputId": "3fa3734a-9e59-442a-ad5f-3381728aa472"
      },
      "execution_count": 40,
      "outputs": [
        {
          "output_type": "execute_result",
          "data": {
            "text/plain": [
              "TfidfVectorizer(max_df=0.8, max_features=10000)"
            ]
          },
          "metadata": {},
          "execution_count": 40
        }
      ]
    },
    {
      "cell_type": "code",
      "source": [
        "file = open('tfdifvector.pkl', 'wb')\n",
        "pickle.dump(tfidf_vectorizer, file)\n",
        "file.close()"
      ],
      "metadata": {
        "id": "sXJxzkzD1v9R"
      },
      "execution_count": 41,
      "outputs": []
    },
    {
      "cell_type": "code",
      "source": [
        "wordnet_down = nltk.download('wordnet', download_dir='drive/MyDrive/Book_Genre_Classi')\n",
        "wordnet_down"
      ],
      "metadata": {
        "colab": {
          "base_uri": "https://localhost:8080/"
        },
        "id": "fHy-JQqE1-Qg",
        "outputId": "b9cb3b49-8b01-48ae-9f49-515bd20c03f4"
      },
      "execution_count": 42,
      "outputs": [
        {
          "output_type": "stream",
          "name": "stdout",
          "text": [
            "[nltk_data] Downloading package wordnet to\n",
            "[nltk_data]     drive/MyDrive/Book_Genre_Classi...\n",
            "[nltk_data]   Package wordnet is already up-to-date!\n"
          ]
        },
        {
          "output_type": "execute_result",
          "data": {
            "text/plain": [
              "True"
            ]
          },
          "metadata": {},
          "execution_count": 42
        }
      ]
    },
    {
      "cell_type": "code",
      "source": [
        "nltk.download('stopwords', download_dir='drive/MyDrive/Book_Genre_Classi')"
      ],
      "metadata": {
        "colab": {
          "base_uri": "https://localhost:8080/"
        },
        "id": "4_y65sz42P-3",
        "outputId": "eff874a5-129f-4bc4-e5d3-1ddbfab0ef1a"
      },
      "execution_count": 43,
      "outputs": [
        {
          "output_type": "stream",
          "name": "stdout",
          "text": [
            "[nltk_data] Downloading package stopwords to\n",
            "[nltk_data]     drive/MyDrive/Book_Genre_Classi...\n",
            "[nltk_data]   Package stopwords is already up-to-date!\n"
          ]
        },
        {
          "output_type": "execute_result",
          "data": {
            "text/plain": [
              "True"
            ]
          },
          "metadata": {},
          "execution_count": 43
        }
      ]
    },
    {
      "cell_type": "code",
      "source": [
        ""
      ],
      "metadata": {
        "id": "zc_8-7WQ2auP"
      },
      "execution_count": 43,
      "outputs": []
    }
  ]
}